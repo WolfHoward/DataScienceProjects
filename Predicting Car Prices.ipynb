{
 "cells": [
  {
   "cell_type": "code",
   "execution_count": 14,
   "metadata": {
    "collapsed": true,
    "deletable": true,
    "editable": true
   },
   "outputs": [],
   "source": [
    "import pandas as pd\n",
    "import numpy as np"
   ]
  },
  {
   "cell_type": "code",
   "execution_count": 15,
   "metadata": {
    "collapsed": false,
    "deletable": true,
    "editable": true
   },
   "outputs": [
    {
     "data": {
      "text/html": [
       "<div>\n",
       "<table border=\"1\" class=\"dataframe\">\n",
       "  <thead>\n",
       "    <tr style=\"text-align: right;\">\n",
       "      <th></th>\n",
       "      <th>symboling</th>\n",
       "      <th>normalized-losses</th>\n",
       "      <th>make</th>\n",
       "      <th>fuel-type</th>\n",
       "      <th>aspiration</th>\n",
       "      <th>num-of-doors</th>\n",
       "      <th>body-style</th>\n",
       "      <th>drive-wheels</th>\n",
       "      <th>engine-location</th>\n",
       "      <th>wheel-base</th>\n",
       "      <th>length</th>\n",
       "      <th>width</th>\n",
       "      <th>height</th>\n",
       "      <th>curb-weight</th>\n",
       "      <th>engine-type</th>\n",
       "      <th>num-of-cylinders</th>\n",
       "      <th>engine-size</th>\n",
       "      <th>fuel-system</th>\n",
       "      <th>bore</th>\n",
       "      <th>stroke</th>\n",
       "      <th>compression-ratio</th>\n",
       "      <th>horsepower</th>\n",
       "      <th>peak-rpm</th>\n",
       "      <th>city-mpg</th>\n",
       "      <th>highway-mpg</th>\n",
       "      <th>price</th>\n",
       "    </tr>\n",
       "  </thead>\n",
       "  <tbody>\n",
       "    <tr>\n",
       "      <th>0</th>\n",
       "      <td>3</td>\n",
       "      <td>?</td>\n",
       "      <td>alfa-romero</td>\n",
       "      <td>gas</td>\n",
       "      <td>std</td>\n",
       "      <td>two</td>\n",
       "      <td>convertible</td>\n",
       "      <td>rwd</td>\n",
       "      <td>front</td>\n",
       "      <td>88.6</td>\n",
       "      <td>168.8</td>\n",
       "      <td>64.1</td>\n",
       "      <td>48.8</td>\n",
       "      <td>2548</td>\n",
       "      <td>dohc</td>\n",
       "      <td>four</td>\n",
       "      <td>130</td>\n",
       "      <td>mpfi</td>\n",
       "      <td>3.47</td>\n",
       "      <td>2.68</td>\n",
       "      <td>9.0</td>\n",
       "      <td>111</td>\n",
       "      <td>5000</td>\n",
       "      <td>21</td>\n",
       "      <td>27</td>\n",
       "      <td>13495</td>\n",
       "    </tr>\n",
       "    <tr>\n",
       "      <th>1</th>\n",
       "      <td>3</td>\n",
       "      <td>?</td>\n",
       "      <td>alfa-romero</td>\n",
       "      <td>gas</td>\n",
       "      <td>std</td>\n",
       "      <td>two</td>\n",
       "      <td>convertible</td>\n",
       "      <td>rwd</td>\n",
       "      <td>front</td>\n",
       "      <td>88.6</td>\n",
       "      <td>168.8</td>\n",
       "      <td>64.1</td>\n",
       "      <td>48.8</td>\n",
       "      <td>2548</td>\n",
       "      <td>dohc</td>\n",
       "      <td>four</td>\n",
       "      <td>130</td>\n",
       "      <td>mpfi</td>\n",
       "      <td>3.47</td>\n",
       "      <td>2.68</td>\n",
       "      <td>9.0</td>\n",
       "      <td>111</td>\n",
       "      <td>5000</td>\n",
       "      <td>21</td>\n",
       "      <td>27</td>\n",
       "      <td>16500</td>\n",
       "    </tr>\n",
       "    <tr>\n",
       "      <th>2</th>\n",
       "      <td>1</td>\n",
       "      <td>?</td>\n",
       "      <td>alfa-romero</td>\n",
       "      <td>gas</td>\n",
       "      <td>std</td>\n",
       "      <td>two</td>\n",
       "      <td>hatchback</td>\n",
       "      <td>rwd</td>\n",
       "      <td>front</td>\n",
       "      <td>94.5</td>\n",
       "      <td>171.2</td>\n",
       "      <td>65.5</td>\n",
       "      <td>52.4</td>\n",
       "      <td>2823</td>\n",
       "      <td>ohcv</td>\n",
       "      <td>six</td>\n",
       "      <td>152</td>\n",
       "      <td>mpfi</td>\n",
       "      <td>2.68</td>\n",
       "      <td>3.47</td>\n",
       "      <td>9.0</td>\n",
       "      <td>154</td>\n",
       "      <td>5000</td>\n",
       "      <td>19</td>\n",
       "      <td>26</td>\n",
       "      <td>16500</td>\n",
       "    </tr>\n",
       "    <tr>\n",
       "      <th>3</th>\n",
       "      <td>2</td>\n",
       "      <td>164</td>\n",
       "      <td>audi</td>\n",
       "      <td>gas</td>\n",
       "      <td>std</td>\n",
       "      <td>four</td>\n",
       "      <td>sedan</td>\n",
       "      <td>fwd</td>\n",
       "      <td>front</td>\n",
       "      <td>99.8</td>\n",
       "      <td>176.6</td>\n",
       "      <td>66.2</td>\n",
       "      <td>54.3</td>\n",
       "      <td>2337</td>\n",
       "      <td>ohc</td>\n",
       "      <td>four</td>\n",
       "      <td>109</td>\n",
       "      <td>mpfi</td>\n",
       "      <td>3.19</td>\n",
       "      <td>3.40</td>\n",
       "      <td>10.0</td>\n",
       "      <td>102</td>\n",
       "      <td>5500</td>\n",
       "      <td>24</td>\n",
       "      <td>30</td>\n",
       "      <td>13950</td>\n",
       "    </tr>\n",
       "    <tr>\n",
       "      <th>4</th>\n",
       "      <td>2</td>\n",
       "      <td>164</td>\n",
       "      <td>audi</td>\n",
       "      <td>gas</td>\n",
       "      <td>std</td>\n",
       "      <td>four</td>\n",
       "      <td>sedan</td>\n",
       "      <td>4wd</td>\n",
       "      <td>front</td>\n",
       "      <td>99.4</td>\n",
       "      <td>176.6</td>\n",
       "      <td>66.4</td>\n",
       "      <td>54.3</td>\n",
       "      <td>2824</td>\n",
       "      <td>ohc</td>\n",
       "      <td>five</td>\n",
       "      <td>136</td>\n",
       "      <td>mpfi</td>\n",
       "      <td>3.19</td>\n",
       "      <td>3.40</td>\n",
       "      <td>8.0</td>\n",
       "      <td>115</td>\n",
       "      <td>5500</td>\n",
       "      <td>18</td>\n",
       "      <td>22</td>\n",
       "      <td>17450</td>\n",
       "    </tr>\n",
       "  </tbody>\n",
       "</table>\n",
       "</div>"
      ],
      "text/plain": [
       "   symboling normalized-losses         make fuel-type aspiration num-of-doors  \\\n",
       "0          3                 ?  alfa-romero       gas        std          two   \n",
       "1          3                 ?  alfa-romero       gas        std          two   \n",
       "2          1                 ?  alfa-romero       gas        std          two   \n",
       "3          2               164         audi       gas        std         four   \n",
       "4          2               164         audi       gas        std         four   \n",
       "\n",
       "    body-style drive-wheels engine-location  wheel-base  length  width  \\\n",
       "0  convertible          rwd           front        88.6   168.8   64.1   \n",
       "1  convertible          rwd           front        88.6   168.8   64.1   \n",
       "2    hatchback          rwd           front        94.5   171.2   65.5   \n",
       "3        sedan          fwd           front        99.8   176.6   66.2   \n",
       "4        sedan          4wd           front        99.4   176.6   66.4   \n",
       "\n",
       "   height  curb-weight engine-type num-of-cylinders  engine-size fuel-system  \\\n",
       "0    48.8         2548        dohc             four          130        mpfi   \n",
       "1    48.8         2548        dohc             four          130        mpfi   \n",
       "2    52.4         2823        ohcv              six          152        mpfi   \n",
       "3    54.3         2337         ohc             four          109        mpfi   \n",
       "4    54.3         2824         ohc             five          136        mpfi   \n",
       "\n",
       "   bore stroke  compression-ratio horsepower peak-rpm  city-mpg  highway-mpg  \\\n",
       "0  3.47   2.68                9.0        111     5000        21           27   \n",
       "1  3.47   2.68                9.0        111     5000        21           27   \n",
       "2  2.68   3.47                9.0        154     5000        19           26   \n",
       "3  3.19   3.40               10.0        102     5500        24           30   \n",
       "4  3.19   3.40                8.0        115     5500        18           22   \n",
       "\n",
       "   price  \n",
       "0  13495  \n",
       "1  16500  \n",
       "2  16500  \n",
       "3  13950  \n",
       "4  17450  "
      ]
     },
     "execution_count": 15,
     "metadata": {},
     "output_type": "execute_result"
    }
   ],
   "source": [
    "# Quick and dirty, just want to save the time of typing out each individual column name\n",
    "temp_names = '''\n",
    "  1. symboling:                -3, -2, -1, 0, 1, 2, 3.\n",
    "  2. normalized-losses:        continuous from 65 to 256.\n",
    "  3. make:                     alfa-romero, audi, bmw, chevrolet, dodge, honda,\n",
    "                               isuzu, jaguar, mazda, mercedes-benz, mercury,\n",
    "                               mitsubishi, nissan, peugot, plymouth, porsche,\n",
    "                               renault, saab, subaru, toyota, volkswagen, volvo\n",
    "  4. fuel-type:                diesel, gas.\n",
    "  5. aspiration:               std, turbo.\n",
    "  6. num-of-doors:             four, two.\n",
    "  7. body-style:               hardtop, wagon, sedan, hatchback, convertible.\n",
    "  8. drive-wheels:             4wd, fwd, rwd.\n",
    "  9. engine-location:          front, rear.\n",
    " 10. wheel-base:               continuous from 86.6 120.9.\n",
    " 11. length:                   continuous from 141.1 to 208.1.\n",
    " 12. width:                    continuous from 60.3 to 72.3.\n",
    " 13. height:                   continuous from 47.8 to 59.8.\n",
    " 14. curb-weight:              continuous from 1488 to 4066.\n",
    " 15. engine-type:              dohc, dohcv, l, ohc, ohcf, ohcv, rotor.\n",
    " 16. num-of-cylinders:         eight, five, four, six, three, twelve, two.\n",
    " 17. engine-size:              continuous from 61 to 326.\n",
    " 18. fuel-system:              1bbl, 2bbl, 4bbl, idi, mfi, mpfi, spdi, spfi.\n",
    " 19. bore:                     continuous from 2.54 to 3.94.\n",
    " 20. stroke:                   continuous from 2.07 to 4.17.\n",
    " 21. compression-ratio:        continuous from 7 to 23.\n",
    " 22. horsepower:               continuous from 48 to 288.\n",
    " 23. peak-rpm:                 continuous from 4150 to 6600.\n",
    " 24. city-mpg:                 continuous from 13 to 49.\n",
    " 25. highway-mpg:              continuous from 16 to 54.\n",
    " 26. price:                    continuous from 5118 to 45400.\n",
    "'''\n",
    "\n",
    "temp_names = temp_names.split('. ')\n",
    "col_names = [name.split(':')[0] for name in temp_names]\n",
    "col_names.pop(0) # Since I got an unwanted newline character to start \n",
    "cars_df = pd.read_csv('imports-85.data', names=col_names)\n",
    "cars_df.head()"
   ]
  },
  {
   "cell_type": "code",
   "execution_count": 16,
   "metadata": {
    "collapsed": false,
    "deletable": true,
    "editable": true
   },
   "outputs": [
    {
     "data": {
      "text/plain": [
       "symboling              int64\n",
       "normalized-losses     object\n",
       "make                  object\n",
       "fuel-type             object\n",
       "aspiration            object\n",
       "num-of-doors          object\n",
       "body-style            object\n",
       "drive-wheels          object\n",
       "engine-location       object\n",
       "wheel-base           float64\n",
       "length               float64\n",
       "width                float64\n",
       "height               float64\n",
       "curb-weight            int64\n",
       "engine-type           object\n",
       "num-of-cylinders      object\n",
       "engine-size            int64\n",
       "fuel-system           object\n",
       "bore                  object\n",
       "stroke                object\n",
       "compression-ratio    float64\n",
       "horsepower            object\n",
       "peak-rpm              object\n",
       "city-mpg               int64\n",
       "highway-mpg            int64\n",
       "price                 object\n",
       "dtype: object"
      ]
     },
     "execution_count": 16,
     "metadata": {},
     "output_type": "execute_result"
    }
   ],
   "source": [
    "cars_df.dtypes"
   ]
  },
  {
   "cell_type": "markdown",
   "metadata": {
    "deletable": true,
    "editable": true
   },
   "source": [
    "A few of these values should be numeric rather than of object type. Per the print out above, it seems null values are filled in with a \"?\". In order to get a better sense of the missing data, I convert to standard NaN values and get counts on columns missing values. (This info is also available in the documentation, but I prefer to have the values in front of my face.)"
   ]
  },
  {
   "cell_type": "code",
   "execution_count": 17,
   "metadata": {
    "collapsed": false,
    "deletable": true,
    "editable": true
   },
   "outputs": [
    {
     "data": {
      "text/plain": [
       "body-style\n",
       "convertible    138.000000\n",
       "hardtop        132.600000\n",
       "hatchback      132.083333\n",
       "sedan          120.700000\n",
       "wagon           87.529412\n",
       "Name: normalized-losses, dtype: float64"
      ]
     },
     "execution_count": 17,
     "metadata": {},
     "output_type": "execute_result"
    }
   ],
   "source": [
    "cars_df = cars_df.replace('?', np.nan)\n",
    "float_cols = ['normalized-losses', 'horsepower', 'peak-rpm', 'bore', 'stroke', 'price']\n",
    "cars_df[float_cols] = cars_df[float_cols].astype('float')\n",
    "body_group = cars_df.groupby('body-style')\n",
    "body_group['normalized-losses'].mean()"
   ]
  },
  {
   "cell_type": "code",
   "execution_count": 18,
   "metadata": {
    "collapsed": false,
    "deletable": true,
    "editable": true
   },
   "outputs": [
    {
     "data": {
      "text/plain": [
       "sedan          96\n",
       "hatchback      70\n",
       "wagon          25\n",
       "hardtop         8\n",
       "convertible     6\n",
       "Name: body-style, dtype: int64"
      ]
     },
     "execution_count": 18,
     "metadata": {},
     "output_type": "execute_result"
    }
   ],
   "source": [
    "cars_df['body-style'].value_counts()"
   ]
  },
  {
   "cell_type": "code",
   "execution_count": 19,
   "metadata": {
    "collapsed": false,
    "deletable": true,
    "editable": true,
    "scrolled": true
   },
   "outputs": [
    {
     "data": {
      "text/plain": [
       "body-style        \n",
       "convertible  count        6.000000\n",
       "             mean     21890.500000\n",
       "             std      11187.802193\n",
       "             min      11595.000000\n",
       "             25%      14246.250000\n",
       "             50%      17084.500000\n",
       "             75%      30709.250000\n",
       "             max      37028.000000\n",
       "hardtop      count        8.000000\n",
       "             mean     22208.500000\n",
       "             std      14555.520749\n",
       "             min       8249.000000\n",
       "             25%       9341.500000\n",
       "             50%      19687.500000\n",
       "             75%      32903.000000\n",
       "             max      45400.000000\n",
       "hatchback    count       68.000000\n",
       "             mean      9957.441176\n",
       "             std       4148.864162\n",
       "             min       5118.000000\n",
       "             25%       6518.750000\n",
       "             50%       8672.000000\n",
       "             75%      12044.750000\n",
       "             max      22018.000000\n",
       "sedan        count       94.000000\n",
       "             mean     14459.755319\n",
       "             std       8523.210259\n",
       "             min       5499.000000\n",
       "             25%       8010.750000\n",
       "             50%      11078.500000\n",
       "             75%      17890.000000\n",
       "             max      41315.000000\n",
       "wagon        count       25.000000\n",
       "             mean     12371.960000\n",
       "             std       5120.948695\n",
       "             min       6918.000000\n",
       "             25%       8013.000000\n",
       "             50%      11694.000000\n",
       "             75%      15750.000000\n",
       "             max      28248.000000\n",
       "Name: price, dtype: float64"
      ]
     },
     "execution_count": 19,
     "metadata": {},
     "output_type": "execute_result"
    }
   ],
   "source": [
    "body_group['price'].describe()"
   ]
  },
  {
   "cell_type": "code",
   "execution_count": 20,
   "metadata": {
    "collapsed": false,
    "deletable": true,
    "editable": true
   },
   "outputs": [
    {
     "name": "stdout",
     "output_type": "stream",
     "text": [
      "normalized-losses\n",
      "41\n",
      "wheel-base\n",
      "0\n",
      "length\n",
      "0\n",
      "width\n",
      "0\n",
      "height\n",
      "0\n",
      "bore\n",
      "4\n",
      "stroke\n",
      "4\n",
      "horsepower\n",
      "2\n",
      "peak-rpm\n",
      "2\n",
      "city-mpg\n",
      "0\n",
      "highway-mpg\n",
      "0\n",
      "curb-weight\n",
      "0\n",
      "compression-ratio\n",
      "0\n",
      "engine-size\n",
      "0\n",
      "price\n",
      "4\n"
     ]
    }
   ],
   "source": [
    "\n",
    "continuous_cols = ['normalized-losses', 'wheel-base', 'length', 'width', 'height', 'bore', 'stroke',\n",
    "                'horsepower', 'peak-rpm', 'city-mpg', 'highway-mpg', 'curb-weight', 'compression-ratio',\n",
    "                'engine-size', 'price']\n",
    "cleaned_cars = cars_df[continuous_cols].astype('float')\n",
    "\n",
    "for col in cleaned_cars.columns:\n",
    "    print(col)\n",
    "    print(cars_df[cars_df[col].isnull() == True].shape[0])"
   ]
  },
  {
   "cell_type": "markdown",
   "metadata": {
    "collapsed": false,
    "deletable": true,
    "editable": true
   },
   "source": [
    "I show below that the missing bore and stroke values appear in the same rows. The two missing horespower and peak-rpm values belong to the only Renault make data available. I simply drop these rows, as they are also missing normalized-losses."
   ]
  },
  {
   "cell_type": "code",
   "execution_count": 21,
   "metadata": {
    "collapsed": false,
    "deletable": true,
    "editable": true
   },
   "outputs": [
    {
     "data": {
      "text/plain": [
       "normalized-losses    float64\n",
       "wheel-base           float64\n",
       "length               float64\n",
       "width                float64\n",
       "height               float64\n",
       "bore                 float64\n",
       "stroke               float64\n",
       "horsepower           float64\n",
       "peak-rpm             float64\n",
       "city-mpg             float64\n",
       "highway-mpg          float64\n",
       "curb-weight          float64\n",
       "compression-ratio    float64\n",
       "engine-size          float64\n",
       "price                float64\n",
       "dtype: object"
      ]
     },
     "execution_count": 21,
     "metadata": {},
     "output_type": "execute_result"
    }
   ],
   "source": [
    "cleaned_cars.dtypes"
   ]
  },
  {
   "cell_type": "code",
   "execution_count": 22,
   "metadata": {
    "collapsed": false,
    "deletable": true,
    "editable": true
   },
   "outputs": [
    {
     "data": {
      "text/html": [
       "<div>\n",
       "<table border=\"1\" class=\"dataframe\">\n",
       "  <thead>\n",
       "    <tr style=\"text-align: right;\">\n",
       "      <th></th>\n",
       "      <th>normalized-losses</th>\n",
       "      <th>wheel-base</th>\n",
       "      <th>length</th>\n",
       "      <th>width</th>\n",
       "      <th>height</th>\n",
       "      <th>bore</th>\n",
       "      <th>stroke</th>\n",
       "      <th>horsepower</th>\n",
       "      <th>peak-rpm</th>\n",
       "      <th>city-mpg</th>\n",
       "      <th>highway-mpg</th>\n",
       "      <th>curb-weight</th>\n",
       "      <th>compression-ratio</th>\n",
       "      <th>engine-size</th>\n",
       "      <th>price</th>\n",
       "    </tr>\n",
       "  </thead>\n",
       "  <tbody>\n",
       "    <tr>\n",
       "      <th>55</th>\n",
       "      <td>150.0</td>\n",
       "      <td>95.3</td>\n",
       "      <td>169.0</td>\n",
       "      <td>65.7</td>\n",
       "      <td>49.6</td>\n",
       "      <td>NaN</td>\n",
       "      <td>NaN</td>\n",
       "      <td>101.0</td>\n",
       "      <td>6000.0</td>\n",
       "      <td>17.0</td>\n",
       "      <td>23.0</td>\n",
       "      <td>2380.0</td>\n",
       "      <td>9.4</td>\n",
       "      <td>70.0</td>\n",
       "      <td>10945.0</td>\n",
       "    </tr>\n",
       "    <tr>\n",
       "      <th>56</th>\n",
       "      <td>150.0</td>\n",
       "      <td>95.3</td>\n",
       "      <td>169.0</td>\n",
       "      <td>65.7</td>\n",
       "      <td>49.6</td>\n",
       "      <td>NaN</td>\n",
       "      <td>NaN</td>\n",
       "      <td>101.0</td>\n",
       "      <td>6000.0</td>\n",
       "      <td>17.0</td>\n",
       "      <td>23.0</td>\n",
       "      <td>2380.0</td>\n",
       "      <td>9.4</td>\n",
       "      <td>70.0</td>\n",
       "      <td>11845.0</td>\n",
       "    </tr>\n",
       "    <tr>\n",
       "      <th>57</th>\n",
       "      <td>150.0</td>\n",
       "      <td>95.3</td>\n",
       "      <td>169.0</td>\n",
       "      <td>65.7</td>\n",
       "      <td>49.6</td>\n",
       "      <td>NaN</td>\n",
       "      <td>NaN</td>\n",
       "      <td>101.0</td>\n",
       "      <td>6000.0</td>\n",
       "      <td>17.0</td>\n",
       "      <td>23.0</td>\n",
       "      <td>2385.0</td>\n",
       "      <td>9.4</td>\n",
       "      <td>70.0</td>\n",
       "      <td>13645.0</td>\n",
       "    </tr>\n",
       "    <tr>\n",
       "      <th>58</th>\n",
       "      <td>150.0</td>\n",
       "      <td>95.3</td>\n",
       "      <td>169.0</td>\n",
       "      <td>65.7</td>\n",
       "      <td>49.6</td>\n",
       "      <td>NaN</td>\n",
       "      <td>NaN</td>\n",
       "      <td>135.0</td>\n",
       "      <td>6000.0</td>\n",
       "      <td>16.0</td>\n",
       "      <td>23.0</td>\n",
       "      <td>2500.0</td>\n",
       "      <td>9.4</td>\n",
       "      <td>80.0</td>\n",
       "      <td>15645.0</td>\n",
       "    </tr>\n",
       "  </tbody>\n",
       "</table>\n",
       "</div>"
      ],
      "text/plain": [
       "    normalized-losses  wheel-base  length  width  height  bore  stroke  \\\n",
       "55              150.0        95.3   169.0   65.7    49.6   NaN     NaN   \n",
       "56              150.0        95.3   169.0   65.7    49.6   NaN     NaN   \n",
       "57              150.0        95.3   169.0   65.7    49.6   NaN     NaN   \n",
       "58              150.0        95.3   169.0   65.7    49.6   NaN     NaN   \n",
       "\n",
       "    horsepower  peak-rpm  city-mpg  highway-mpg  curb-weight  \\\n",
       "55       101.0    6000.0      17.0         23.0       2380.0   \n",
       "56       101.0    6000.0      17.0         23.0       2380.0   \n",
       "57       101.0    6000.0      17.0         23.0       2385.0   \n",
       "58       135.0    6000.0      16.0         23.0       2500.0   \n",
       "\n",
       "    compression-ratio  engine-size    price  \n",
       "55                9.4         70.0  10945.0  \n",
       "56                9.4         70.0  11845.0  \n",
       "57                9.4         70.0  13645.0  \n",
       "58                9.4         80.0  15645.0  "
      ]
     },
     "execution_count": 22,
     "metadata": {},
     "output_type": "execute_result"
    }
   ],
   "source": [
    "pd.set_option('display.max_columns', None)\n",
    "cleaned_cars[cleaned_cars['bore'].isnull() == True]"
   ]
  },
  {
   "cell_type": "markdown",
   "metadata": {
    "deletable": true,
    "editable": true
   },
   "source": [
    "In car world, the [bore to stroke ratio](https://en.wikipedia.org/wiki/Stroke_ratio) is more important than either value taken individually. A larger bore/stroke ratio results in more power delivered at high engine rpm, [such as in a race car](http://achatespower.com/stroke-to-bore/). As shown in the linked graphic, the bore/stroke ratio of a professional race car engine might be something like 1.33, while an average sedan is likely closer to 1. A smaller bore/stroke ratio results in greater power delivered at lower rpm."
   ]
  },
  {
   "cell_type": "code",
   "execution_count": 23,
   "metadata": {
    "collapsed": false,
    "deletable": true,
    "editable": true
   },
   "outputs": [],
   "source": [
    "cleaned_cars['bore-to-stroke'] = cleaned_cars['bore']/cleaned_cars['stroke']\n",
    "cleaned_cars = cleaned_cars.drop(['bore','stroke'],axis=1)"
   ]
  },
  {
   "cell_type": "code",
   "execution_count": 24,
   "metadata": {
    "collapsed": false,
    "deletable": true,
    "editable": true
   },
   "outputs": [],
   "source": [
    "cleaned_cars.at[55:59,'bore-to-stroke'] = cleaned_cars['bore-to-stroke'].mean()"
   ]
  },
  {
   "cell_type": "code",
   "execution_count": 25,
   "metadata": {
    "collapsed": false,
    "deletable": true,
    "editable": true
   },
   "outputs": [
    {
     "data": {
      "text/html": [
       "<div>\n",
       "<table border=\"1\" class=\"dataframe\">\n",
       "  <thead>\n",
       "    <tr style=\"text-align: right;\">\n",
       "      <th></th>\n",
       "      <th>normalized-losses</th>\n",
       "      <th>wheel-base</th>\n",
       "      <th>length</th>\n",
       "      <th>width</th>\n",
       "      <th>height</th>\n",
       "      <th>horsepower</th>\n",
       "      <th>peak-rpm</th>\n",
       "      <th>city-mpg</th>\n",
       "      <th>highway-mpg</th>\n",
       "      <th>curb-weight</th>\n",
       "      <th>compression-ratio</th>\n",
       "      <th>engine-size</th>\n",
       "      <th>price</th>\n",
       "      <th>bore-to-stroke</th>\n",
       "    </tr>\n",
       "  </thead>\n",
       "  <tbody>\n",
       "    <tr>\n",
       "      <th>130</th>\n",
       "      <td>NaN</td>\n",
       "      <td>96.1</td>\n",
       "      <td>181.5</td>\n",
       "      <td>66.5</td>\n",
       "      <td>55.2</td>\n",
       "      <td>NaN</td>\n",
       "      <td>NaN</td>\n",
       "      <td>23.0</td>\n",
       "      <td>31.0</td>\n",
       "      <td>2579.0</td>\n",
       "      <td>8.7</td>\n",
       "      <td>132.0</td>\n",
       "      <td>9295.0</td>\n",
       "      <td>0.887179</td>\n",
       "    </tr>\n",
       "    <tr>\n",
       "      <th>131</th>\n",
       "      <td>NaN</td>\n",
       "      <td>96.1</td>\n",
       "      <td>176.8</td>\n",
       "      <td>66.6</td>\n",
       "      <td>50.5</td>\n",
       "      <td>NaN</td>\n",
       "      <td>NaN</td>\n",
       "      <td>23.0</td>\n",
       "      <td>31.0</td>\n",
       "      <td>2460.0</td>\n",
       "      <td>8.7</td>\n",
       "      <td>132.0</td>\n",
       "      <td>9895.0</td>\n",
       "      <td>0.887179</td>\n",
       "    </tr>\n",
       "  </tbody>\n",
       "</table>\n",
       "</div>"
      ],
      "text/plain": [
       "     normalized-losses  wheel-base  length  width  height  horsepower  \\\n",
       "130                NaN        96.1   181.5   66.5    55.2         NaN   \n",
       "131                NaN        96.1   176.8   66.6    50.5         NaN   \n",
       "\n",
       "     peak-rpm  city-mpg  highway-mpg  curb-weight  compression-ratio  \\\n",
       "130       NaN      23.0         31.0       2579.0                8.7   \n",
       "131       NaN      23.0         31.0       2460.0                8.7   \n",
       "\n",
       "     engine-size   price  bore-to-stroke  \n",
       "130        132.0  9295.0        0.887179  \n",
       "131        132.0  9895.0        0.887179  "
      ]
     },
     "execution_count": 25,
     "metadata": {},
     "output_type": "execute_result"
    }
   ],
   "source": [
    "# Since these rows are missing multiple fields, I drop both of them\n",
    "cleaned_cars[cleaned_cars['peak-rpm'].isnull() == True]"
   ]
  },
  {
   "cell_type": "code",
   "execution_count": 26,
   "metadata": {
    "collapsed": false,
    "deletable": true,
    "editable": true
   },
   "outputs": [
    {
     "data": {
      "text/plain": [
       "0.20325417074184238"
      ]
     },
     "execution_count": 26,
     "metadata": {},
     "output_type": "execute_result"
    }
   ],
   "source": [
    "cleaned_cars = cleaned_cars.drop([130, 131])\n",
    "\n",
    "'''Correlation between normalized losses and price'''\n",
    "cleaned_cars[['normalized-losses', 'price']].corr().iloc[0,1]"
   ]
  },
  {
   "cell_type": "markdown",
   "metadata": {
    "deletable": true,
    "editable": true
   },
   "source": [
    "Now I consider how to handle the missing `normalized-losses` values. `normalized-losses` gives \"the relative average loss payment per insured vehicle year.\" That is to say, this value is how much insurance has to pay out on average each year. Between `normalized-losses` and the target value, `price`, we have a correlation coefficient of 0.2, indicating weak yet positive correlation. While we will likely lose some predictive power by dropping the `normalized-losses` column, we lose nearly a quarter of our dataset if we drop entries missing `normalized-losses` values. Our values for `normalized-losses` also have a strong right skew. \n",
    "\n",
    "As show below, if we fill missing values with the average of the `'normalized-losses'` column, the correlation drops to .13. This isn't a tremendous loss, and we elect to fill values with the average."
   ]
  },
  {
   "cell_type": "code",
   "execution_count": 27,
   "metadata": {
    "collapsed": false,
    "deletable": true,
    "editable": true
   },
   "outputs": [
    {
     "data": {
      "text/plain": [
       "0.13068553818410644"
      ]
     },
     "execution_count": 27,
     "metadata": {},
     "output_type": "execute_result"
    }
   ],
   "source": [
    "test_df = cleaned_cars\n",
    "test_df = test_df.replace('NaN', test_df['normalized-losses'].mean())\n",
    "test_df[['normalized-losses', 'price']].corr().iloc[0,1]"
   ]
  },
  {
   "cell_type": "code",
   "execution_count": 28,
   "metadata": {
    "collapsed": true,
    "deletable": true,
    "editable": true
   },
   "outputs": [],
   "source": [
    "cleaned_cars = cleaned_cars.fillna(cleaned_cars.mean())\n"
   ]
  },
  {
   "cell_type": "code",
   "execution_count": 31,
   "metadata": {
    "collapsed": false,
    "deletable": true,
    "editable": true
   },
   "outputs": [
    {
     "data": {
      "text/plain": [
       "<matplotlib.axes._subplots.AxesSubplot at 0x20f6030cd30>"
      ]
     },
     "execution_count": 31,
     "metadata": {},
     "output_type": "execute_result"
    },
    {
     "data": {
      "image/png": "[encoded data removed]",
      "text/plain": [
       "<matplotlib.figure.Figure at 0x20f603199e8>"
      ]
     },
     "metadata": {},
     "output_type": "display_data"
    }
   ],
   "source": [
    "%matplotlib inline\n",
    "cleaned_cars['normalized-losses'].plot.hist()\n",
    "\n",
    "# A histogram of the normalized-losses column after filling in missing values"
   ]
  },
  {
   "cell_type": "markdown",
   "metadata": {},
   "source": [
    "Next we normalize the dataset to ensure all of the values, except for price, fall between -1 and 1."
   ]
  },
  {
   "cell_type": "code",
   "execution_count": 32,
   "metadata": {
    "collapsed": false,
    "deletable": true,
    "editable": true
   },
   "outputs": [],
   "source": [
    "\n",
    "price = cleaned_cars['price']\n",
    "norm_cars = (cleaned_cars-cleaned_cars.min())/(cleaned_cars.max() - cleaned_cars.min())\n",
    "norm_cars['price'] = price"
   ]
  },
  {
   "cell_type": "code",
   "execution_count": 33,
   "metadata": {
    "collapsed": false,
    "deletable": true,
    "editable": true
   },
   "outputs": [
    {
     "data": {
      "text/plain": [
       "<matplotlib.axes._subplots.AxesSubplot at 0x20f603e9780>"
      ]
     },
     "execution_count": 33,
     "metadata": {},
     "output_type": "execute_result"
    },
    {
     "data": {
      "image/png": "[encoded data removed]",
      "text/plain": [
       "<matplotlib.figure.Figure at 0x20f60324358>"
      ]
     },
     "metadata": {},
     "output_type": "display_data"
    }
   ],
   "source": [
    "norm_cars['price'].plot.hist()"
   ]
  },
  {
   "cell_type": "code",
   "execution_count": 34,
   "metadata": {
    "collapsed": false,
    "deletable": true,
    "editable": true
   },
   "outputs": [
    {
     "data": {
      "text/plain": [
       "normalized-losses    0\n",
       "wheel-base           0\n",
       "length               0\n",
       "width                0\n",
       "height               0\n",
       "horsepower           0\n",
       "peak-rpm             0\n",
       "city-mpg             0\n",
       "highway-mpg          0\n",
       "curb-weight          0\n",
       "compression-ratio    0\n",
       "engine-size          0\n",
       "price                0\n",
       "bore-to-stroke       0\n",
       "dtype: int64"
      ]
     },
     "execution_count": 34,
     "metadata": {},
     "output_type": "execute_result"
    }
   ],
   "source": [
    "#Ensuring we got all of the null values\n",
    "norm_cars.isnull().sum()"
   ]
  },
  {
   "cell_type": "markdown",
   "metadata": {
    "deletable": true,
    "editable": true
   },
   "source": [
    "# Univariate K Nearest Neighbors regression\n",
    "\n",
    "We fit a model for each feature individually first, allowing us to get a sense of which features will give us lower rmse values."
   ]
  },
  {
   "cell_type": "code",
   "execution_count": 35,
   "metadata": {
    "collapsed": false,
    "deletable": true,
    "editable": true
   },
   "outputs": [],
   "source": [
    "from sklearn.neighbors import KNeighborsRegressor\n",
    "from sklearn.metrics import mean_squared_error\n",
    "\n",
    "# A univariate k-nearest neighbors method\n",
    "def knn_train_test(train_col, target_col, df):\n",
    "    np.random.seed(1)\n",
    "                   \n",
    "    # Randomizing dataframe order\n",
    "    random_idx = np.random.permutation(df.index)\n",
    "    random_df = df.reindex(random_idx)\n",
    "    \n",
    "    # Splitting the dataframe in half for our train and test sets\n",
    "    train_df = random_df.iloc[:random_df.shape[0]//2]\n",
    "    test_df = random_df.iloc[random_df.shape[0]//2:]\n",
    "    \n",
    "    # Fit and calculate the RMSE value\n",
    "    knn = KNeighborsRegressor()\n",
    "    knn.fit(train_df[[train_col]], train_df[target_col])\n",
    "    prediction = knn.predict(test_df[[train_col]])\n",
    "    \n",
    "    mse = mean_squared_error(test_df[target_col], prediction)\n",
    "    rmse = mse**(1/2)\n",
    "    \n",
    "    return rmse"
   ]
  },
  {
   "cell_type": "code",
   "execution_count": 37,
   "metadata": {
    "collapsed": false,
    "deletable": true,
    "editable": true
   },
   "outputs": [
    {
     "name": "stdout",
     "output_type": "stream",
     "text": [
      "normalized-losses \n",
      "\t 8123.21948077\n",
      "wheel-base \n",
      "\t 5881.88030522\n",
      "length \n",
      "\t 5447.8444191\n",
      "width \n",
      "\t 4918.48644464\n",
      "height \n",
      "\t 7908.64395214\n",
      "horsepower \n",
      "\t 4915.79547686\n",
      "peak-rpm \n",
      "\t 8254.94734704\n",
      "city-mpg \n",
      "\t 5244.60896032\n",
      "highway-mpg \n",
      "\t 4320.79991746\n",
      "curb-weight \n",
      "\t 4419.74795173\n",
      "compression-ratio \n",
      "\t 7184.31116518\n",
      "engine-size \n",
      "\t 4224.04198543\n",
      "bore-to-stroke \n",
      "\t 6562.75727693\n"
     ]
    },
    {
     "data": {
      "text/plain": [
       "[None, None, None, None, None, None, None, None, None, None, None, None, None]"
      ]
     },
     "execution_count": 37,
     "metadata": {},
     "output_type": "execute_result"
    }
   ],
   "source": [
    "# Simply organizing output so it's human-readable\n",
    "rmse_vals = {}\n",
    "for col in norm_cars.columns:\n",
    "    if col!='price':\n",
    "        rmse_vals[col] = knn_train_test(col, 'price', norm_cars)\n",
    "    \n",
    "#Saving our rmse calculations in a pandas Series object\n",
    "rmse_series = pd.Series(rmse_vals)\n",
    "[print(key,'\\n\\t', val) for key, val in rmse_vals.items()]"
   ]
  },
  {
   "cell_type": "markdown",
   "metadata": {
    "deletable": true,
    "editable": true
   },
   "source": [
    "We then test our model for a variety of k-values."
   ]
  },
  {
   "cell_type": "code",
   "execution_count": 38,
   "metadata": {
    "collapsed": true,
    "deletable": true,
    "editable": true
   },
   "outputs": [],
   "source": [
    "def knn_train_test(train_col, target_col, df, k_values=[5]):\n",
    "    np.random.seed(1)\n",
    "                   \n",
    "    # Randomizing dataframe order\n",
    "    random_idx = np.random.permutation(df.index)\n",
    "    random_df = df.reindex(random_idx)\n",
    "    \n",
    "    # Splitting the dataframe in half for our train and test sets\n",
    "    \n",
    "    train_df = random_df.iloc[:random_df.shape[0]//2]\n",
    "    test_df = random_df.iloc[random_df.shape[0]//2:]\n",
    "    k_rmse = {}\n",
    "    \n",
    "    for k in k_values:\n",
    "        knn = KNeighborsRegressor(n_neighbors=k)\n",
    "        knn.fit(train_df[[train_col]], train_df[target_col])\n",
    "        prediction = knn.predict(test_df[[train_col]])\n",
    "    \n",
    "        mse = mean_squared_error(test_df[target_col], prediction)\n",
    "        rmse = mse**(1/2)\n",
    "        k_rmse[k] = rmse\n",
    "    \n",
    "    return k_rmse"
   ]
  },
  {
   "cell_type": "code",
   "execution_count": 39,
   "metadata": {
    "collapsed": false,
    "deletable": true,
    "editable": true
   },
   "outputs": [
    {
     "data": {
      "text/plain": [
       "{'bore-to-stroke': {1: 6420.285358384539,\n",
       "  3: 5973.9015973473333,\n",
       "  5: 6562.7572769291492,\n",
       "  7: 6426.6959961517996,\n",
       "  9: 6718.9058490471234},\n",
       " 'city-mpg': {1: 6295.507519143177,\n",
       "  3: 5112.2448416671741,\n",
       "  5: 5244.6089603169312,\n",
       "  7: 5050.9055315187597,\n",
       "  9: 4819.1590961745342},\n",
       " 'compression-ratio': {1: 7449.2478508749118,\n",
       "  3: 7334.4667588043994,\n",
       "  5: 7184.3111651780637,\n",
       "  7: 7295.0422728353897,\n",
       "  9: 7333.3063852192354},\n",
       " 'curb-weight': {1: 6006.7031785009058,\n",
       "  3: 4431.178829494097,\n",
       "  5: 4419.7479517285174,\n",
       "  7: 4254.8532439597366,\n",
       "  9: 4172.0307530938544},\n",
       " 'engine-size': {1: 5101.7046080990676,\n",
       "  3: 4296.0609397705784,\n",
       "  5: 4224.0419854272141,\n",
       "  7: 3881.3277282817871,\n",
       "  9: 4033.9924896825601},\n",
       " 'height': {1: 9617.9935217336224,\n",
       "  3: 8180.4939258572285,\n",
       "  5: 7908.6439521426373,\n",
       "  7: 7974.7852607344075,\n",
       "  9: 7937.0480330412456},\n",
       " 'highway-mpg': {1: 4975.394275100577,\n",
       "  3: 4394.3397736562383,\n",
       "  5: 4320.7999174596607,\n",
       "  7: 4272.6798689189118,\n",
       "  9: 4330.8114888732143},\n",
       " 'horsepower': {1: 5431.4469285699588,\n",
       "  3: 4785.1742011995839,\n",
       "  5: 4915.7954768559493,\n",
       "  7: 4886.3278319587589,\n",
       "  9: 4978.9209254145089},\n",
       " 'length': {1: 6898.3839223501127,\n",
       "  3: 5148.5783109793456,\n",
       "  5: 5447.8444191035196,\n",
       "  7: 5541.3930836218351,\n",
       "  9: 5623.7495034879694},\n",
       " 'normalized-losses': {1: 8989.8944215506908,\n",
       "  3: 8372.7354418673694,\n",
       "  5: 8123.2194807727565,\n",
       "  7: 8224.6885368111616,\n",
       "  9: 8084.2681460217173},\n",
       " 'peak-rpm': {1: 9473.3688887190765,\n",
       "  3: 7603.2149975646453,\n",
       "  5: 8254.9473470386692,\n",
       "  7: 8359.4513183066829,\n",
       "  9: 8272.0790684971762},\n",
       " 'wheel-base': {1: 5629.6246564387138,\n",
       "  3: 5535.3849198254429,\n",
       "  5: 5881.8803052194226,\n",
       "  7: 6233.0546347458812,\n",
       "  9: 6470.6299451001696},\n",
       " 'width': {1: 7779.2104701497128,\n",
       "  3: 5279.1517976229907,\n",
       "  5: 4918.4864446352367,\n",
       "  7: 4953.9099037394017,\n",
       "  9: 5033.4350817107161}}"
      ]
     },
     "execution_count": 39,
     "metadata": {},
     "output_type": "execute_result"
    }
   ],
   "source": [
    "train_cols = norm_cars.columns.drop('price')\n",
    "\n",
    "k_rmse_vals = {}\n",
    "for col in train_cols:\n",
    "    k_rmse_vals[col] = knn_train_test(col, 'price', norm_cars, k_values=[1,3,5,7,9])\n",
    "\n",
    "k_rmse_vals"
   ]
  },
  {
   "cell_type": "code",
   "execution_count": 40,
   "metadata": {
    "collapsed": false,
    "deletable": true,
    "editable": true
   },
   "outputs": [
    {
     "data": {
      "image/png": "[encoded data removed]",
      "text/plain": [
       "<matplotlib.figure.Figure at 0x20f61f15908>"
      ]
     },
     "metadata": {},
     "output_type": "display_data"
    }
   ],
   "source": [
    "import matplotlib.pyplot as plt\n",
    "\n",
    "for key, val in k_rmse_vals.items():\n",
    "    x = list(val.keys())\n",
    "    y = list(val.values())\n",
    "    \n",
    "    plt.plot(x,y)\n",
    "    plt.xlabel('k Value')\n",
    "    plt.ylabel('RMSE Value')\n",
    "    \n",
    "plt.show()"
   ]
  },
  {
   "cell_type": "markdown",
   "metadata": {
    "deletable": true,
    "editable": true
   },
   "source": [
    "We can see from the plot that our model is performingbetter with higher k-values. There's a minimum RMSE at 3 for a number of features, with some features reaching peak performance at 7 k values while others do better at 5. "
   ]
  },
  {
   "cell_type": "markdown",
   "metadata": {
    "deletable": true,
    "editable": true
   },
   "source": [
    "## Multivariate "
   ]
  },
  {
   "cell_type": "code",
   "execution_count": 41,
   "metadata": {
    "collapsed": true,
    "deletable": true,
    "editable": true
   },
   "outputs": [],
   "source": [
    "def knn_train_test(train_cols, target_col, df, k_values=[5]):\n",
    "    np.random.seed(1)\n",
    "                   \n",
    "    # Randomizing dataframe order\n",
    "    random_idx = np.random.permutation(df.index)\n",
    "    random_df = df.reindex(random_idx)\n",
    "    \n",
    "    # Splitting the dataframe in half for our train and test sets\n",
    "    train_df = random_df.iloc[:random_df.shape[0]//2]\n",
    "    test_df = random_df.iloc[random_df.shape[0]//2:]\n",
    "    \n",
    "    k_rmse = {}\n",
    "    \n",
    "    for k in k_values:\n",
    "        # Fit k nearest neighbors model\n",
    "        knn = KNeighborsRegressor(n_neighbors=k)\n",
    "        knn.fit(train_df[train_cols], train_df[target_col])\n",
    "        \n",
    "        # Predict values using model\n",
    "        prediction = knn.predict(test_df[train_cols])\n",
    "        \n",
    "        #calculate and return rmse\n",
    "        mse = mean_squared_error(test_df[target_col], prediction)\n",
    "        rmse = np.sqrt(mse)\n",
    "        k_rmse[k] = rmse\n",
    "    \n",
    "    return k_rmse"
   ]
  },
  {
   "cell_type": "code",
   "execution_count": 42,
   "metadata": {
    "collapsed": false,
    "deletable": true,
    "editable": true
   },
   "outputs": [
    {
     "data": {
      "text/plain": [
       "engine-size          4224.041985\n",
       "highway-mpg          4320.799917\n",
       "curb-weight          4419.747952\n",
       "horsepower           4915.795477\n",
       "width                4918.486445\n",
       "city-mpg             5244.608960\n",
       "length               5447.844419\n",
       "wheel-base           5881.880305\n",
       "bore-to-stroke       6562.757277\n",
       "compression-ratio    7184.311165\n",
       "height               7908.643952\n",
       "normalized-losses    8123.219481\n",
       "peak-rpm             8254.947347\n",
       "dtype: float64"
      ]
     },
     "execution_count": 42,
     "metadata": {},
     "output_type": "execute_result"
    }
   ],
   "source": [
    "rmse_series.sort_values()"
   ]
  },
  {
   "cell_type": "code",
   "execution_count": 43,
   "metadata": {
    "collapsed": false,
    "deletable": true,
    "editable": true
   },
   "outputs": [
    {
     "data": {
      "text/plain": [
       "{'Five Best Features': {5: 3980.2001250147227},\n",
       " 'Four Best Features': {5: 3653.1936346375173},\n",
       " 'Six Best Features': {5: 3949.4520103391324},\n",
       " 'Three Best Features': {5: 3608.9777626878945},\n",
       " 'Two Best Features': {5: 3394.1926562496742}}"
      ]
     },
     "execution_count": 43,
     "metadata": {},
     "output_type": "execute_result"
    }
   ],
   "source": [
    "multivar_rmse = {}\n",
    "\n",
    "two_best_features = ['highway-mpg', 'engine-size']\n",
    "multivar_rmse[\"Two Best Features\"] = knn_train_test(two_best_features, 'price', norm_cars)\n",
    "\n",
    "three_best_features = ['highway-mpg', 'curb-weight', 'engine-size']\n",
    "multivar_rmse[\"Three Best Features\"] = knn_train_test(three_best_features, 'price', norm_cars)\n",
    "\n",
    "four_best_features= ['engine-size', 'curb-weight', 'highway-mpg', 'horsepower']\n",
    "multivar_rmse[\"Four Best Features\"] = knn_train_test(four_best_features, 'price', norm_cars)\n",
    "\n",
    "five_best_features = ['engine-size', 'curb-weight', 'highway-mpg', 'horsepower', 'width']\n",
    "multivar_rmse[\"Five Best Features\"] = knn_train_test(five_best_features, 'price', norm_cars)\n",
    "\n",
    "six_best_features = ['engine-size', 'curb-weight', 'highway-mpg', 'city-mpg', 'width', 'horsepower']\n",
    "multivar_rmse[\"Six Best Features\"] = knn_train_test(six_best_features, 'price', norm_cars)\n",
    "\n",
    "multivar_rmse"
   ]
  },
  {
   "cell_type": "code",
   "execution_count": 44,
   "metadata": {
    "collapsed": false,
    "deletable": true,
    "editable": true
   },
   "outputs": [
    {
     "data": {
      "text/plain": [
       "{'Four Best': {1: 3254.8456643831259,\n",
       "  2: 3397.0477928544424,\n",
       "  3: 3770.7486420871633,\n",
       "  4: 3981.6771815444258,\n",
       "  5: 3653.1936346375173,\n",
       "  6: 3753.1990751058884,\n",
       "  7: 3850.3261209675775,\n",
       "  8: 3897.0908473607583,\n",
       "  9: 4087.4797639005897,\n",
       "  10: 4136.4209300277571,\n",
       "  11: 4130.9051900064551,\n",
       "  12: 4143.045296988209,\n",
       "  13: 4173.3964439490856,\n",
       "  14: 4220.8442978563398,\n",
       "  15: 4333.8949881819854,\n",
       "  16: 4443.7888510309022,\n",
       "  17: 4520.9157940492832,\n",
       "  18: 4600.7215432742942,\n",
       "  19: 4688.19208669009,\n",
       "  20: 4735.7748067581624,\n",
       "  21: 4778.1761013660307,\n",
       "  22: 4847.3115819586374,\n",
       "  23: 4869.3751504297916,\n",
       "  24: 4881.054951909844},\n",
       " 'Three Best': {1: 4090.7372096028612,\n",
       "  2: 3617.4267302571311,\n",
       "  3: 3946.9598517974464,\n",
       "  4: 3727.6035548220816,\n",
       "  5: 3608.9777626878945,\n",
       "  6: 3670.5877804785723,\n",
       "  7: 3831.0947925003375,\n",
       "  8: 3912.4366366644063,\n",
       "  9: 4019.1011325112081,\n",
       "  10: 4106.8365369144285,\n",
       "  11: 4105.7206573595095,\n",
       "  12: 4233.2271836194332,\n",
       "  13: 4377.9794371776488,\n",
       "  14: 4508.5171614058063,\n",
       "  15: 4583.6152751825584,\n",
       "  16: 4591.5436527884067,\n",
       "  17: 4665.2594200416661,\n",
       "  18: 4705.3209451206403,\n",
       "  19: 4759.808405060634,\n",
       "  20: 4839.7798048982704,\n",
       "  21: 4875.9907109886826,\n",
       "  22: 4901.7597509021334,\n",
       "  23: 4885.5835074437036,\n",
       "  24: 4943.509810527994},\n",
       " 'Two Best': {1: 3834.1551746986593,\n",
       "  2: 3495.0975189628984,\n",
       "  3: 3544.3575496087324,\n",
       "  4: 3286.0911952293613,\n",
       "  5: 3394.1926562496742,\n",
       "  6: 3496.9853787861293,\n",
       "  7: 3654.5238153574078,\n",
       "  8: 3675.266734170842,\n",
       "  9: 3662.9973923847469,\n",
       "  10: 3851.7680192568628,\n",
       "  11: 3910.1868670066797,\n",
       "  12: 4014.2051866704869,\n",
       "  13: 4014.1488066001471,\n",
       "  14: 4079.1307001408886,\n",
       "  15: 4235.7534965423374,\n",
       "  16: 4377.1811681001827,\n",
       "  17: 4478.4082319128047,\n",
       "  18: 4533.3638611064362,\n",
       "  19: 4598.9962099109052,\n",
       "  20: 4620.0013040107815,\n",
       "  21: 4613.3130553466826,\n",
       "  22: 4661.3366045923467,\n",
       "  23: 4700.742777207889,\n",
       "  24: 4741.7221393269901}}"
      ]
     },
     "execution_count": 44,
     "metadata": {},
     "output_type": "execute_result"
    }
   ],
   "source": [
    "hyper_params = [x for x in range(1,25)]\n",
    "hyper_params_rmse={}\n",
    "hyper_params_rmse['Two Best'] = knn_train_test(two_best_features,'price',norm_cars,hyper_params)\n",
    "hyper_params_rmse['Three Best'] = knn_train_test(three_best_features,'price',norm_cars,hyper_params)\n",
    "hyper_params_rmse['Four Best'] = knn_train_test(four_best_features,'price',norm_cars,hyper_params)\n",
    "\n",
    "hyper_params_rmse"
   ]
  },
  {
   "cell_type": "code",
   "execution_count": 47,
   "metadata": {
    "collapsed": false,
    "deletable": true,
    "editable": true
   },
   "outputs": [
    {
     "data": {
      "image/png": "[encoded data removed]",
      "text/plain": [
       "<matplotlib.figure.Figure at 0x20f62041e10>"
      ]
     },
     "metadata": {},
     "output_type": "display_data"
    }
   ],
   "source": [
    "for key, val in hyper_params_rmse.items():\n",
    "    x = list(val.keys())\n",
    "    y = list(val.values())\n",
    "    \n",
    "    plt.plot(x,y, label=key)\n",
    "    plt.xlabel('Number of Hyper Parameters')\n",
    "    plt.ylabel('RMSE Values')\n",
    "    plt.legend()\n",
    "    \n",
    "plt.show()"
   ]
  },
  {
   "cell_type": "markdown",
   "metadata": {
    "collapsed": true,
    "deletable": true,
    "editable": true
   },
   "source": [
    "Using the model taking the four best features, peak performance comes when using only one k value. The model using the two best features is optimized with four k values.  The model taking the three best performing features is optimized at 5 k values, though the RMSE value at 2 k values is close to optimal as well.\n",
    "\n",
    "Breaking this down a little more, what we see is that when our multivariate knn model considers four features, it does really well when only compared against one listing. This is the optimal case across all considerations. \n",
    "\n",
    "The features being considered are engine size, curb weight, highway mpg, and horsepower. If you were talking to a car fanatic, they could likely categorize a car type by considering just these four items. A BMW 5 series will probably be heavier, have a bigger enginge and more horsepower, and a lower highway mpg than a Ford Fit, for example. It makes sense that our model is able to predict prices based on these criteria. It can also do it quickly, i.e., with only the closest neighbor. This implies prices are highly segregated with these four criteria in mind.\n",
    "\n",
    "When we remove horsepower, optimal performance is obtained when considering 5 neighbors. We see that generality leads to loss of performance here, specifically due to the curb weight. It appears our model has a hard time parsing speedsters from station wagons when it has to grapple with how heavy a car is. Removing curb weight gives us RMSE values closer to our optimal model, specifically when considering 4 neighbors. Mapping only highway mpg and engine size, the model can once again parse energy efficient vehicles from gas guzzling luxury cars given enough criteria."
   ]
  },
  {
   "cell_type": "code",
   "execution_count": null,
   "metadata": {
    "collapsed": true,
    "deletable": true,
    "editable": true
   },
   "outputs": [],
   "source": []
  }
 ],
 "metadata": {
  "kernelspec": {
   "display_name": "Python 3",
   "language": "python",
   "name": "python3"
  },
  "language_info": {
   "codemirror_mode": {
    "name": "ipython",
    "version": 3
   },
   "file_extension": ".py",
   "mimetype": "text/x-python",
   "name": "python",
   "nbconvert_exporter": "python",
   "pygments_lexer": "ipython3",
   "version": "3.6.0"
  }
 },
 "nbformat": 4,
 "nbformat_minor": 2
}
