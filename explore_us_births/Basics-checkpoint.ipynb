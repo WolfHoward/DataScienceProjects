{
 "cells": [
  {
   "cell_type": "code",
   "execution_count": 1,
   "metadata": {
    "collapsed": false
   },
   "outputs": [
    {
     "data": {
      "text/plain": [
       "['year,month,date_of_month,day_of_week,births',\n",
       " '1994,1,1,6,8096',\n",
       " '1994,1,2,7,7772',\n",
       " '1994,1,3,1,10142',\n",
       " '1994,1,4,2,11248',\n",
       " '1994,1,5,3,11053',\n",
       " '1994,1,6,4,11406',\n",
       " '1994,1,7,5,11251',\n",
       " '1994,1,8,6,8653',\n",
       " '1994,1,9,7,7910']"
      ]
     },
     "execution_count": 1,
     "metadata": {},
     "output_type": "execute_result"
    }
   ],
   "source": [
    "f = open(\"US_births_1994-2003_CDC_NCHS.csv\", \"r\")\n",
    "text = f.read()\n",
    "data = text.split('\\n')\n",
    "data[:10]"
   ]
  },
  {
   "cell_type": "code",
   "execution_count": 2,
   "metadata": {
    "collapsed": false
   },
   "outputs": [],
   "source": [
    "def read_csv(filename):\n",
    "    f = open(filename, 'r')\n",
    "    text = f.read()\n",
    "    string_list = text.split('\\n')\n",
    "    string_list.pop(0)\n",
    "    final_list = []\n",
    "    \n",
    "    for item in string_list:\n",
    "        int_fields = []\n",
    "        string_fields = item.split(',')\n",
    "        int_fields = [int(x) for x in string_fields]\n",
    "        #int_fields.append(string_fields)\n",
    "        \n",
    "        final_list.append(int_fields)\n",
    "        \n",
    "    return final_list"
   ]
  },
  {
   "cell_type": "code",
   "execution_count": 3,
   "metadata": {
    "collapsed": false
   },
   "outputs": [],
   "source": [
    "cdc_list = read_csv(\"US_births_1994-2003_CDC_NCHS.csv\")"
   ]
  },
  {
   "cell_type": "code",
   "execution_count": 4,
   "metadata": {
    "collapsed": false
   },
   "outputs": [
    {
     "data": {
      "text/plain": [
       "[[1994, 1, 1, 6, 8096],\n",
       " [1994, 1, 2, 7, 7772],\n",
       " [1994, 1, 3, 1, 10142],\n",
       " [1994, 1, 4, 2, 11248],\n",
       " [1994, 1, 5, 3, 11053],\n",
       " [1994, 1, 6, 4, 11406],\n",
       " [1994, 1, 7, 5, 11251],\n",
       " [1994, 1, 8, 6, 8653],\n",
       " [1994, 1, 9, 7, 7910],\n",
       " [1994, 1, 10, 1, 10498]]"
      ]
     },
     "execution_count": 4,
     "metadata": {},
     "output_type": "execute_result"
    }
   ],
   "source": [
    "cdc_list[:10]"
   ]
  },
  {
   "cell_type": "code",
   "execution_count": 5,
   "metadata": {
    "collapsed": true
   },
   "outputs": [],
   "source": [
    "def month_births(data):\n",
    "    births_per_month = {}\n",
    "    \n",
    "    for record in data:\n",
    "        month = record[1]\n",
    "        births = record[4]\n",
    "        \n",
    "        if month in births_per_month:\n",
    "            births_per_month[month] += births\n",
    "        else:\n",
    "            births_per_month[month] = births\n",
    "            \n",
    "    return births_per_month"
   ]
  },
  {
   "cell_type": "code",
   "execution_count": 6,
   "metadata": {
    "collapsed": false
   },
   "outputs": [],
   "source": [
    "cdc_month_births = month_births(cdc_list)\n",
    "#cdc_month_births"
   ]
  },
  {
   "cell_type": "code",
   "execution_count": 7,
   "metadata": {
    "collapsed": true
   },
   "outputs": [],
   "source": [
    "def dow_births(data):\n",
    "    births_per_dow = {}\n",
    "    \n",
    "    for record in data:\n",
    "        dow = record[3]\n",
    "        births = record[4]\n",
    "        \n",
    "        if dow in births_per_dow:\n",
    "            births_per_dow[dow] += births\n",
    "        else:\n",
    "            births_per_dow[dow] = births\n",
    "            \n",
    "    return births_per_dow"
   ]
  },
  {
   "cell_type": "code",
   "execution_count": 8,
   "metadata": {
    "collapsed": false
   },
   "outputs": [],
   "source": [
    "cdc_day_births = dow_births(cdc_list)"
   ]
  },
  {
   "cell_type": "code",
   "execution_count": 9,
   "metadata": {
    "collapsed": false
   },
   "outputs": [],
   "source": [
    "#cdc_day_births"
   ]
  },
  {
   "cell_type": "code",
   "execution_count": 10,
   "metadata": {
    "collapsed": true
   },
   "outputs": [],
   "source": [
    "def calc_counts(data, col):\n",
    "    births_per_col = {}\n",
    "    \n",
    "    for record in data:\n",
    "        column = record[col]\n",
    "        births = record[4]\n",
    "        \n",
    "        if column in births_per_col:\n",
    "            births_per_col[column] += births\n",
    "        else:\n",
    "            births_per_col[column] = births\n",
    "            \n",
    "    return births_per_col"
   ]
  },
  {
   "cell_type": "code",
   "execution_count": 11,
   "metadata": {
    "collapsed": false
   },
   "outputs": [],
   "source": [
    "cdc_year_births = calc_counts(cdc_list,0)"
   ]
  },
  {
   "cell_type": "code",
   "execution_count": 12,
   "metadata": {
    "collapsed": true
   },
   "outputs": [],
   "source": [
    "cdc_month_births = calc_counts(cdc_list, 1)"
   ]
  },
  {
   "cell_type": "code",
   "execution_count": 13,
   "metadata": {
    "collapsed": false
   },
   "outputs": [],
   "source": [
    "cdc_dom_births = calc_counts(cdc_list, 2)\n",
    "#cdc_dom_births"
   ]
  },
  {
   "cell_type": "code",
   "execution_count": 14,
   "metadata": {
    "collapsed": false
   },
   "outputs": [],
   "source": [
    "cdc_dow_births = calc_counts(cdc_list,3)\n",
    "#cdc_dow_births"
   ]
  },
  {
   "cell_type": "code",
   "execution_count": 15,
   "metadata": {
    "collapsed": true
   },
   "outputs": [],
   "source": [
    "def min_max(data, key):\n",
    "    \n",
    "    min = data[key]\n",
    "    max = data[key]\n",
    "    \n",
    "    for item in data:\n",
    "        if data[item] < min:\n",
    "            min = data[item]\n",
    "        elif data[item] > max:\n",
    "            max = data[item]\n",
    "        else:\n",
    "            continue\n",
    "            \n",
    "    return min, max"
   ]
  },
  {
   "cell_type": "code",
   "execution_count": 16,
   "metadata": {
    "collapsed": false
   },
   "outputs": [
    {
     "data": {
      "text/plain": [
       "(746696, 1326855)"
      ]
     },
     "execution_count": 16,
     "metadata": {},
     "output_type": "execute_result"
    }
   ],
   "source": [
    "min_max(cdc_dom_births, 1)"
   ]
  },
  {
   "cell_type": "code",
   "execution_count": 20,
   "metadata": {
    "collapsed": false
   },
   "outputs": [],
   "source": [
    "def birth_diff(data, col, val = 1):\n",
    "    change_in_births = {}\n",
    "    total_record = {}\n",
    "    current_record = {}\n",
    "    #start = data[0][0]\n",
    "    #print(start)\n",
    "    i = 0\n",
    "\n",
    "    # Extract the number of births for the desired value\n",
    "    # Find the difference in the two values\n",
    "    # Print the values and the associated years\n",
    "    for record in data:\n",
    "        record_of_interest = record[col]\n",
    "        value_of_interest = val\n",
    "        year = record[0]\n",
    "        births = record[4]\n",
    "        prev_year = year - 1\n",
    "        if record_of_interest == val:\n",
    "            if record_of_interest in current_record:\n",
    "                current_record[record_of_interest] += births\n",
    "            else:\n",
    "                current_record[record_of_interest] = births\n",
    "            \n",
    "            if prev_year not in total_record and year > 1994:\n",
    "                total_record[prev_year] = current_record[record_of_interest]\n",
    "                \n",
    "                if prev_year - 1 in total_record:\n",
    "                    x = total_record[prev_year-1]\n",
    "                    y = total_record[prev_year]\n",
    "                    change_in_births[prev_year, year] = y - x\n",
    "                \n",
    "                #print(\"x\", x, \"y\", y)\n",
    "                current_record = {}\n",
    "                i = 0\n",
    "    return change_in_births"
   ]
  },
  {
   "cell_type": "code",
   "execution_count": 23,
   "metadata": {
    "collapsed": false
   },
   "outputs": [
    {
     "name": "stdout",
     "output_type": "stream",
     "text": [
      "i:  1 \n",
      " {(2000, 2001): 8840, (1997, 1998): 2126, (1998, 1999): 2215, (2001, 2002): 6849, (2002, 2003): -4884, (1996, 1997): -919, (1999, 2000): 572, (1995, 1996): -12665}\n",
      "i:  2 \n",
      " {(2000, 2001): 17995, (1997, 1998): -8518, (1998, 1999): 11076, (2001, 2002): -13913, (2002, 2003): -2719, (1996, 1997): 4376, (1999, 2000): -2570, (1995, 1996): -17761}\n",
      "i:  3 \n",
      " {(2000, 2001): 6021, (1997, 1998): 1036, (1998, 1999): 12175, (2001, 2002): -1774, (2002, 2003): -10844, (1996, 1997): -9363, (1999, 2000): 1792, (1995, 1996): -22528}\n",
      "i:  4 \n",
      " {(2000, 2001): 2165, (1997, 1998): 1202, (1998, 1999): 5656, (2001, 2002): 10687, (2002, 2003): -570, (1996, 1997): 2327, (1999, 2000): -6265, (1995, 1996): -14896}\n",
      "i:  5 \n",
      " {(2000, 2001): 11150, (1997, 1998): 4573, (1998, 1999): -3234, (2001, 2002): 799, (2002, 2003): -3899, (1996, 1997): -8917, (1999, 2000): 4138, (1995, 1996): -6542}\n",
      "i:  6 \n",
      " {(2000, 2001): 6786, (1997, 1998): 7687, (1998, 1999): 2560, (2001, 2002): -13449, (2002, 2003): -321, (1996, 1997): -9006, (1999, 2000): 6063, (1995, 1996): -15552}\n",
      "i:  7 \n",
      " {(2000, 2001): 1514, (1997, 1998): -203, (1998, 1999): 2616, (2001, 2002): 7778, (2002, 2003): 3463, (1996, 1997): 3017, (1999, 2000): -2600, (1995, 1996): -11776}\n",
      "i:  8 \n",
      " {(2000, 2001): 3368, (1997, 1998): -10426, (1998, 1999): 8297, (2001, 2002): 2537, (2002, 2003): -2814, (1996, 1997): -4200, (1999, 2000): 12166, (1995, 1996): -14167}\n",
      "i:  9 \n",
      " {(2000, 2001): -5790, (1997, 1998): 1947, (1998, 1999): 5118, (2001, 2002): -2559, (2002, 2003): 7719, (1996, 1997): 1300, (1999, 2000): 6384, (1995, 1996): -16748}\n",
      "i:  10 \n",
      " {(2000, 2001): 19036, (1997, 1998): -6750, (1998, 1999): 4018, (2001, 2002): -2490, (2002, 2003): 395, (1996, 1997): 1338, (1999, 2000): -4209, (1995, 1996): -4399}\n",
      "i:  11 \n",
      " {(2000, 2001): 16762, (1997, 1998): 39, (1998, 1999): 9806, (2001, 2002): -10269, (2002, 2003): -8942, (1996, 1997): -4446, (1999, 2000): 798, (1995, 1996): -20267}\n"
     ]
    }
   ],
   "source": [
    "i = 1\n",
    "while i < 12:\n",
    "    \n",
    "    print(\"i: \", i, \"\\n\", birth_diff(cdc_list,1,i))\n",
    "    i+=1"
   ]
  },
  {
   "cell_type": "code",
   "execution_count": null,
   "metadata": {
    "collapsed": true
   },
   "outputs": [],
   "source": []
  }
 ],
 "metadata": {
  "anaconda-cloud": {},
  "kernelspec": {
   "display_name": "Python 3",
   "language": "python",
   "name": "python3"
  },
  "language_info": {
   "codemirror_mode": {
    "name": "ipython",
    "version": 3
   },
   "file_extension": ".py",
   "mimetype": "text/x-python",
   "name": "python",
   "nbconvert_exporter": "python",
   "pygments_lexer": "ipython3",
   "version": "3.4.3"
  }
 },
 "nbformat": 4,
 "nbformat_minor": 1
}
