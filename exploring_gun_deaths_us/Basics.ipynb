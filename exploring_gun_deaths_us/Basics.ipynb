{
 "cells": [
  {
   "cell_type": "code",
   "execution_count": 1,
   "metadata": {
    "collapsed": false
   },
   "outputs": [
    {
     "name": "stdout",
     "output_type": "stream",
     "text": [
      "[['', 'year', 'month', 'intent', 'police', 'sex', 'age', 'race', 'hispanic', 'place', 'education'], ['1', '2012', '01', 'Suicide', '0', 'M', '34', 'Asian/Pacific Islander', '100', 'Home', '4'], ['2', '2012', '01', 'Suicide', '0', 'F', '21', 'White', '100', 'Street', '3'], ['3', '2012', '01', 'Suicide', '0', 'M', '60', 'White', '100', 'Other specified', '4'], ['4', '2012', '02', 'Suicide', '0', 'M', '64', 'White', '100', 'Home', '4']]\n"
     ]
    }
   ],
   "source": [
    "import csv\n",
    "import datetime\n",
    "import numpy as np\n",
    "\n",
    "f = open(\"guns.csv\", \"r\")\n",
    "data = csv.reader(f)\n",
    "data = list(data)\n",
    "print(data[:5])"
   ]
  },
  {
   "cell_type": "code",
   "execution_count": 2,
   "metadata": {
    "collapsed": false
   },
   "outputs": [],
   "source": [
    "# An apparently overly specialized function. Will split a dictionary based\n",
    "# on given bounds. Would be more useful if it calculated a representative\n",
    "# split and output the hi, lo or middle depending on user input.\n",
    "def value_bound(data, up_bound = None, lo_bound = None, mid_return = False):\n",
    "    vals = {}; mid_vals = {}\n",
    "    no_bound_vals = []\n",
    "    \n",
    "    for key, value in data.items():\n",
    "        if up_bound is None and lo_bound is None:\n",
    "            no_bound_vals.append(value)\n",
    "        elif up_bound is not None and value > up_bound:\n",
    "            vals[key] = value\n",
    "        elif lo_bound is not None and value < lo_bound:\n",
    "            vals[key] = value\n",
    "        else:\n",
    "            mid_vals[key] = value\n",
    "\n",
    "    if len(no_bound_vals) > 0:\n",
    "        print(\"No bounds given. Splitting about the mean... \\n\")\n",
    "        mean = np.mean(no_bound_vals)\n",
    "        \n",
    "        hi_lo = input(\"Input 1 to return vals > mean. Input 2 to return vals < mean...\\n>\")\n",
    "        if hi_lo == 1:\n",
    "            up_half = [x for x in no_bound_vals if x > mean]\n",
    "            return(up_half)\n",
    "        elif hi_lo == 2:\n",
    "            lo_half = [x for x in no_bound_vals if x < mean]\n",
    "            return(lo_half)\n",
    "        else:\n",
    "            return(\"Invalid input.\")\n",
    "        \n",
    "    if mid_return == True:\n",
    "        return(mid_vals)\n",
    "            \n",
    "    return(vals)\n"
   ]
  },
  {
   "cell_type": "code",
   "execution_count": 3,
   "metadata": {
    "collapsed": true
   },
   "outputs": [],
   "source": [
    "# A formatting function, used to output the mean, variance, and standard\n",
    "# deviation of a given dictionary of values. \n",
    "def summary(data, output = True, title = None, data_print = False):\n",
    "    explicit_count = {}\n",
    "    values = []\n",
    "    \n",
    "    for key, value in data.items():\n",
    "        keyf = key\n",
    "        \n",
    "        #If it's a datetime, format to show month and year\n",
    "        if isinstance(key, datetime.datetime):\n",
    "            keyf = key.strftime(\"%b %Y\")\n",
    "        \n",
    "        explicit_count[keyf] = value\n",
    "        values.append(value)\n",
    "    \n",
    "    packet = {\"avg\": np.mean(values), \"var\": np.var(values), \"std\": np.std(values)}\n",
    "    \n",
    "    if title is not None:\n",
    "        print(title)    \n",
    "    \n",
    "    if output == True:\n",
    "        print(\"\\n\\tAvg: {avg:.2f} \\n\\tVar: {var:.2f} \\n\\tStd. Dev: {std:.2f} \\n\".format(**packet))\n",
    "    \n",
    "    if data_print == True:\n",
    "        print(\"Dataset: \\n\", explicit_count, \"\\n\\n\")"
   ]
  },
  {
   "cell_type": "code",
   "execution_count": 4,
   "metadata": {
    "collapsed": true
   },
   "outputs": [],
   "source": [
    "# A function to generate dictionary counts from a given list\n",
    "def counts(data, i = None):\n",
    "    \n",
    "    if isinstance(data, dict):\n",
    "        relist = [v for k, v in data.items()]\n",
    "        #print(relist)\n",
    "        data = [row[i] for row in relist]\n",
    "\n",
    "    col_count = {}\n",
    "    \n",
    "    for item in data:\n",
    "        if item not in col_count:\n",
    "            col_count[item] = 1\n",
    "        else:\n",
    "            col_count[item] += 1\n",
    "            \n",
    "        \n",
    "    return(col_count)"
   ]
  },
  {
   "cell_type": "code",
   "execution_count": 5,
   "metadata": {
    "collapsed": true
   },
   "outputs": [],
   "source": [
    "# data_record is a list, \n",
    "# col is the value of the column in the list you want to consider\n",
    "# key_value is the category you are isolating\n",
    "# If excl_set is set to True, the method will return the excluded set\n",
    "def category_split(data_record, col, key_value, inner_col = None, excl_set=False):\n",
    "    i = 0\n",
    "    cat_split = {}\n",
    "    secondary_split = {}\n",
    "      \n",
    "    for row in data_record:\n",
    "        if excl_set == True:\n",
    "            if row[col] != key_value:\n",
    "                cat_split[i] = row\n",
    "                i += 1\n",
    "        elif row[col] == key_value:\n",
    "            cat_split[i] = row\n",
    "            i += 1\n",
    "            \n",
    "    if inner_col is not None:\n",
    "        secondary_split = counts(cat_split, i = inner_col)\n",
    "        return(cat_split, secondary_split)\n",
    "    \n",
    "    return(cat_split)"
   ]
  },
  {
   "cell_type": "code",
   "execution_count": 6,
   "metadata": {
    "collapsed": false
   },
   "outputs": [
    {
     "name": "stdout",
     "output_type": "stream",
     "text": [
      "['', 'year', 'month', 'intent', 'police', 'sex', 'age', 'race', 'hispanic', 'place', 'education']\n",
      "[['1', '2012', '01', 'Suicide', '0', 'M', '34', 'Asian/Pacific Islander', '100', 'Home', '4'], ['2', '2012', '01', 'Suicide', '0', 'F', '21', 'White', '100', 'Street', '3'], ['3', '2012', '01', 'Suicide', '0', 'M', '60', 'White', '100', 'Other specified', '4'], ['4', '2012', '02', 'Suicide', '0', 'M', '64', 'White', '100', 'Home', '4'], ['5', '2012', '02', 'Suicide', '0', 'M', '31', 'White', '100', 'Other specified', '2']]\n"
     ]
    }
   ],
   "source": [
    "# Removing the header row from the dataset and storing it for reference\n",
    "headers = data.pop(0)\n",
    "print(headers)\n",
    "print(data[:5])"
   ]
  },
  {
   "cell_type": "code",
   "execution_count": 7,
   "metadata": {
    "collapsed": false
   },
   "outputs": [
    {
     "name": "stdout",
     "output_type": "stream",
     "text": [
      "{'2014': 33599, '2013': 33636, '2012': 33563}\n"
     ]
    }
   ],
   "source": [
    "years = [row[1] for row in data]\n",
    "year_counts = counts(years)\n",
    "print(year_counts)"
   ]
  },
  {
   "cell_type": "code",
   "execution_count": 8,
   "metadata": {
    "collapsed": false
   },
   "outputs": [
    {
     "name": "stdout",
     "output_type": "stream",
     "text": [
      "[datetime.datetime(2012, 1, 1, 0, 0), datetime.datetime(2012, 1, 1, 0, 0), datetime.datetime(2012, 1, 1, 0, 0), datetime.datetime(2012, 2, 1, 0, 0), datetime.datetime(2012, 2, 1, 0, 0)]\n"
     ]
    }
   ],
   "source": [
    "#Using a list comp to pull columns of interest\n",
    "dates = [datetime.datetime(year=int(row[1]), month=int(row[2]), day = 1) for row in data]\n",
    "print(dates[:5])"
   ]
  },
  {
   "cell_type": "code",
   "execution_count": 9,
   "metadata": {
    "collapsed": false
   },
   "outputs": [],
   "source": [
    "# Passing the generated list to our counting function\n",
    "date_counts = counts(dates)"
   ]
  },
  {
   "cell_type": "code",
   "execution_count": 10,
   "metadata": {
    "collapsed": false
   },
   "outputs": [],
   "source": [
    "hi_vals = value_bound(date_counts, up_bound=2900)\n",
    "lo_vals = value_bound(date_counts, lo_bound=2750)\n",
    "mid_vals = value_bound(date_counts, up_bound=2900, lo_bound=2750, mid_return=True)"
   ]
  },
  {
   "cell_type": "code",
   "execution_count": 11,
   "metadata": {
    "collapsed": false
   },
   "outputs": [
    {
     "name": "stdout",
     "output_type": "stream",
     "text": [
      "Hi Count Summary\n",
      "\n",
      "\tAvg: 2974.12 \n",
      "\tVar: 2891.86 \n",
      "\tStd. Dev: 53.78 \n",
      "\n",
      "Dataset: \n",
      " {'Jul 2012': 3026, 'Aug 2014': 2970, 'Jun 2014': 2931, 'Jul 2013': 3079, 'Jun 2013': 2920, 'May 2012': 2999, 'Aug 2012': 2954, 'Sep 2014': 2914} \n",
      "\n",
      "\n",
      "Lo Count Summary\n",
      "\n",
      "\tAvg: 2597.22 \n",
      "\tVar: 27925.06 \n",
      "\tStd. Dev: 167.11 \n",
      "\n",
      "Dataset: \n",
      " {'Jan 2014': 2651, 'Sep 2013': 2742, 'Feb 2012': 2357, 'Nov 2012': 2729, 'Mar 2012': 2743, 'Mar 2014': 2684, 'Feb 2014': 2361, 'Oct 2012': 2733, 'Feb 2013': 2375} \n",
      "\n",
      "\n",
      "Mid Count Summary\n",
      "\n",
      "\tAvg: 2822.63 \n",
      "\tVar: 1812.55 \n",
      "\tStd. Dev: 42.57 \n",
      "\n",
      "Dataset: \n",
      " {'Jul 2014': 2884, 'Oct 2013': 2808, 'May 2014': 2864, 'Aug 2013': 2859, 'Apr 2012': 2795, 'Jan 2012': 2758, 'Nov 2014': 2756, 'Jan 2013': 2864, 'Apr 2014': 2862, 'Dec 2012': 2791, 'Oct 2014': 2865, 'May 2013': 2806, 'Dec 2014': 2857, 'Apr 2013': 2798, 'Mar 2013': 2862, 'Nov 2013': 2758, 'Dec 2013': 2765, 'Sep 2012': 2852, 'Jun 2012': 2826} \n",
      "\n",
      "\n"
     ]
    }
   ],
   "source": [
    "summary(hi_vals, title = \"Hi Count Summary\", data_print = True)\n",
    "summary(lo_vals, title = \"Lo Count Summary\", data_print = True)\n",
    "summary(mid_vals, title = \"Mid Count Summary\", data_print = True)"
   ]
  },
  {
   "cell_type": "markdown",
   "metadata": {},
   "source": [
    "## My self-imposed lower-bound seemed ill defined ##\n",
    "I believed this because the standard deviation for the low count is far higher than that of the middle and upper bounds. Looking more closely, I realized that the three outliers were in February of each year, the only months with fewer than 2400 gun deaths. The next fewest gun deaths occurred  in Jan. & Mar. 2014, at 2651 and 2684 respectively. \n",
    "\n",
    "I decided to compare the total data with and without february"
   ]
  },
  {
   "cell_type": "code",
   "execution_count": 1,
   "metadata": {
    "collapsed": false
   },
   "outputs": [
    {
     "ename": "NameError",
     "evalue": "name 'value_bound' is not defined",
     "output_type": "error",
     "traceback": [
      "\u001b[1;31m\u001b[0m",
      "\u001b[1;31mNameError\u001b[0mTraceback (most recent call last)",
      "\u001b[1;32m<ipython-input-1-d3c9ac00a678>\u001b[0m in \u001b[0;36m<module>\u001b[1;34m()\u001b[0m\n\u001b[1;32m----> 1\u001b[1;33m \u001b[0mwith_feb\u001b[0m \u001b[1;33m=\u001b[0m \u001b[0mvalue_bound\u001b[0m\u001b[1;33m(\u001b[0m\u001b[0mdate_counts\u001b[0m\u001b[1;33m,\u001b[0m \u001b[0mup_bound\u001b[0m \u001b[1;33m=\u001b[0m \u001b[1;36m2300\u001b[0m\u001b[1;33m)\u001b[0m\u001b[1;33m\u001b[0m\u001b[0m\n\u001b[0m\u001b[0;32m      2\u001b[0m \u001b[0msummary\u001b[0m\u001b[1;33m(\u001b[0m\u001b[0mwith_feb\u001b[0m\u001b[1;33m,\u001b[0m \u001b[0mtitle\u001b[0m \u001b[1;33m=\u001b[0m \u001b[1;34m\"Gun Deaths 2012 thru 2014\"\u001b[0m\u001b[1;33m)\u001b[0m\u001b[1;33m\u001b[0m\u001b[0m\n\u001b[0;32m      3\u001b[0m \u001b[0mwithout_feb\u001b[0m \u001b[1;33m=\u001b[0m \u001b[0mvalue_bound\u001b[0m\u001b[1;33m(\u001b[0m\u001b[0mdate_counts\u001b[0m\u001b[1;33m,\u001b[0m \u001b[0mup_bound\u001b[0m\u001b[1;33m=\u001b[0m\u001b[1;36m2400\u001b[0m\u001b[1;33m)\u001b[0m\u001b[1;33m\u001b[0m\u001b[0m\n\u001b[0;32m      4\u001b[0m \u001b[0msummary\u001b[0m\u001b[1;33m(\u001b[0m\u001b[0mwithout_feb\u001b[0m\u001b[1;33m,\u001b[0m \u001b[0mtitle\u001b[0m \u001b[1;33m=\u001b[0m \u001b[1;34m\"Gun Deaths Less February\"\u001b[0m\u001b[1;33m)\u001b[0m\u001b[1;33m\u001b[0m\u001b[0m\n",
      "\u001b[1;31mNameError\u001b[0m: name 'value_bound' is not defined"
     ]
    }
   ],
   "source": [
    "with_feb = value_bound(date_counts, up_bound = 2300)\n",
    "summary(with_feb, title = \"Gun Deaths 2012 thru 2014\")\n",
    "without_feb = value_bound(date_counts, up_bound=2400)\n",
    "summary(without_feb, title = \"Gun Deaths Less February\")"
   ]
  },
  {
   "cell_type": "markdown",
   "metadata": {},
   "source": [
    "## Excluding February brings average gun deaths per month up by 40 ##\n",
    "This tells us that February is a month where gun deaths drop drastically. "
   ]
  },
  {
   "cell_type": "code",
   "execution_count": 13,
   "metadata": {
    "collapsed": false
   },
   "outputs": [
    {
     "name": "stdout",
     "output_type": "stream",
     "text": [
      "{'Hispanic': 9022, 'White': 66237, 'Native American/Native Alaskan': 917, 'Black': 23296, 'Asian/Pacific Islander': 1326}\n"
     ]
    }
   ],
   "source": [
    "races = [row[7] for row in data]\n",
    "race_counts = counts(races)\n",
    "print(race_counts)"
   ]
  },
  {
   "cell_type": "code",
   "execution_count": 14,
   "metadata": {
    "collapsed": false
   },
   "outputs": [
    {
     "name": "stdout",
     "output_type": "stream",
     "text": [
      "{'M': 86349, 'F': 14449}\n"
     ]
    }
   ],
   "source": [
    "sexes = [row[5] for row in data]\n",
    "sex_counts = counts(sexes)\n",
    "print(sex_counts)"
   ]
  },
  {
   "cell_type": "markdown",
   "metadata": {},
   "source": [
    "## A breakdown of gun deaths by race show that White victims drastically outnumber every other category ##\n",
    "Without comparison to the percentage of the population in each racial category, the number of victims don't necessarily imply anything surprising. The gender breakdown shows a much greater number of males suffering gun deaths than females. We know the majority of the U.S. population is female, so this can be viewed as statstically significant.\n",
    "\n",
    "I was curious if there was any other notable outliers in February compared to other data values."
   ]
  },
  {
   "cell_type": "code",
   "execution_count": 15,
   "metadata": {
    "collapsed": false
   },
   "outputs": [],
   "source": [
    "# splitting our data into black gun victims and non-black gun victims\n",
    "black_split = category_split(data, 7, 'Black')\n",
    "non_black_split = category_split(data, 7, 'Black', excl_set = True)\n",
    "white_split = category_split(data, 7, 'White')\n",
    "native_am_split = category_split(data, 7, 'Native American/Native Alaskan')\n",
    "hispanic_split = category_split(data, 7, 'Hispanic')\n",
    "asian_split = category_split(data, 7, 'Asian/Pacific Islander')\n",
    "\n",
    "as_split, as_intent = category_split(data, 7, 'Asian/Pacific Islander', inner_col = 3)\n",
    "na_split, na_intent = category_split(data, 7, 'Native American/Native Alaskan', inner_col = 3)\n",
    "bl_split, bl_intent =  category_split(data, 7, 'Black', inner_col = 3)\n",
    "wh_split, wh_intent =  category_split(data, 7, 'White', inner_col = 3)\n",
    "hs_split, hs_intent = category_split(data, 7, 'Hispanic', inner_col = 3)\n",
    "\n",
    "#print(black_intent_counts)\n",
    "#print(black_intent_counts_2)\n",
    "#print(\"Asian Split: \\n\", as_split, \"\\nAsian Intent: \\n\", as_intent)\n",
    "#summary(as_intent, data_print = True)\n",
    "#print(\"Black Intent: \\n\", bl_intent)\n",
    "#summary(bl_intent)\n",
    "#print(\"White Intent: \\n\", wh_intent)\n",
    "#summary(wh_intent)\n",
    "#print(\"Hispanic Intent: \\n\", hs_intent)\n",
    "#summary(hs_intent)\n",
    "#print(\"Native American Intent: \\n\", na_intent)\n",
    "#summary(na_intent)"
   ]
  },
  {
   "cell_type": "code",
   "execution_count": 16,
   "metadata": {
    "collapsed": false
   },
   "outputs": [
    {
     "name": "stdout",
     "output_type": "stream",
     "text": [
      "23296\n",
      "77502\n",
      "100798\n",
      "23296\n",
      "{'Suicide': 3332, 'Homicide': 19510, 'Accidental': 328, 'Undetermined': 126}\n"
     ]
    }
   ],
   "source": [
    "print(len(black_split))\n",
    "print(len(non_black_split))\n",
    "print(len(data))\n",
    "print(len(bl_split))\n",
    "print(bl_intent)"
   ]
  },
  {
   "cell_type": "code",
   "execution_count": 17,
   "metadata": {
    "collapsed": true
   },
   "outputs": [],
   "source": [
    "f2 = open(\"census.csv\", \"r\")\n",
    "census = csv.reader(f2)\n",
    "census = list(csv.reader(f2))"
   ]
  },
  {
   "cell_type": "code",
   "execution_count": 18,
   "metadata": {
    "collapsed": false
   },
   "outputs": [
    {
     "data": {
      "text/plain": [
       "[['Id',\n",
       "  'Year',\n",
       "  'Id',\n",
       "  'Sex',\n",
       "  'Id',\n",
       "  'Hispanic Origin',\n",
       "  'Id',\n",
       "  'Id2',\n",
       "  'Geography',\n",
       "  'Total',\n",
       "  'Race Alone - White',\n",
       "  'Race Alone - Hispanic',\n",
       "  'Race Alone - Black or African American',\n",
       "  'Race Alone - American Indian and Alaska Native',\n",
       "  'Race Alone - Asian',\n",
       "  'Race Alone - Native Hawaiian and Other Pacific Islander',\n",
       "  'Two or More Races'],\n",
       " ['cen42010',\n",
       "  'April 1, 2010 Census',\n",
       "  'totsex',\n",
       "  'Both Sexes',\n",
       "  'tothisp',\n",
       "  'Total',\n",
       "  '0100000US',\n",
       "  '',\n",
       "  'United States',\n",
       "  '308745538',\n",
       "  '197318956',\n",
       "  '44618105',\n",
       "  '40250635',\n",
       "  '3739506',\n",
       "  '15159516',\n",
       "  '674625',\n",
       "  '6984195']]"
      ]
     },
     "execution_count": 18,
     "metadata": {},
     "output_type": "execute_result"
    }
   ],
   "source": [
    "census"
   ]
  },
  {
   "cell_type": "code",
   "execution_count": 19,
   "metadata": {
    "collapsed": false
   },
   "outputs": [
    {
     "data": {
      "text/plain": [
       "{'Asian/Pacific Islander': 1326,\n",
       " 'Black': 23296,\n",
       " 'Hispanic': 9022,\n",
       " 'Native American/Native Alaskan': 917,\n",
       " 'White': 66237}"
      ]
     },
     "execution_count": 19,
     "metadata": {},
     "output_type": "execute_result"
    }
   ],
   "source": [
    "race_counts"
   ]
  },
  {
   "cell_type": "code",
   "execution_count": 20,
   "metadata": {
    "collapsed": false
   },
   "outputs": [
    {
     "name": "stdout",
     "output_type": "stream",
     "text": [
      "[197318956, 44618105, 40250635, 3739506, 15159516, 674625]\n"
     ]
    }
   ],
   "source": [
    "race_totals = census[1][10:16]\n",
    "race_totals = [int(x) for x in race_totals]\n",
    "print(race_totals)\n",
    "mapping = {\"White\": race_totals[0],\n",
    "           \"Black\": race_totals[2],\n",
    "           \"Hispanic\": race_totals[1],\n",
    "           \"Native American/Native Alaskan\": race_totals[3],\n",
    "           \"Asian/Pacific Islander\": int(race_totals[4]) + int(race_totals[5])}"
   ]
  },
  {
   "cell_type": "code",
   "execution_count": 21,
   "metadata": {
    "collapsed": true
   },
   "outputs": [],
   "source": [
    "race_per_hundredk = {}"
   ]
  },
  {
   "cell_type": "code",
   "execution_count": 22,
   "metadata": {
    "collapsed": false
   },
   "outputs": [],
   "source": [
    "for race, value in race_counts.items():\n",
    "    race_per_hundredk[race] = float(value) / mapping[race] * 100000"
   ]
  },
  {
   "cell_type": "code",
   "execution_count": 23,
   "metadata": {
    "collapsed": false
   },
   "outputs": [
    {
     "data": {
      "text/plain": [
       "{'Asian/Pacific Islander': 8.374309664161762,\n",
       " 'Black': 57.8773477735196,\n",
       " 'Hispanic': 20.220491210910907,\n",
       " 'Native American/Native Alaskan': 24.521955573811088,\n",
       " 'White': 33.56849303419181}"
      ]
     },
     "execution_count": 23,
     "metadata": {},
     "output_type": "execute_result"
    }
   ],
   "source": [
    "race_per_hundredk"
   ]
  },
  {
   "cell_type": "code",
   "execution_count": 24,
   "metadata": {
    "collapsed": true
   },
   "outputs": [],
   "source": [
    "intents = [row[3] for row in data]"
   ]
  },
  {
   "cell_type": "code",
   "execution_count": 25,
   "metadata": {
    "collapsed": true
   },
   "outputs": [],
   "source": [
    "races = [row[7] for row in data]"
   ]
  },
  {
   "cell_type": "code",
   "execution_count": 26,
   "metadata": {
    "collapsed": false
   },
   "outputs": [
    {
     "data": {
      "text/plain": [
       "'White'"
      ]
     },
     "execution_count": 26,
     "metadata": {},
     "output_type": "execute_result"
    }
   ],
   "source": [
    "races[1]"
   ]
  },
  {
   "cell_type": "code",
   "execution_count": 27,
   "metadata": {
    "collapsed": false
   },
   "outputs": [],
   "source": [
    "homicide_rate_per_hundredk = {}\n",
    "\n",
    "for item in list(enumerate(races)):\n",
    "    i = item[0]\n",
    "    race = item[1]\n",
    "    \n",
    "    if intents[i] == 'Homicide':\n",
    "        if race not in homicide_rate_per_hundredk:\n",
    "            homicide_rate_per_hundredk[race] = 1\n",
    "            i += 1\n",
    "        else:\n",
    "            homicide_rate_per_hundredk[race] += 1\n",
    "            i += 1"
   ]
  },
  {
   "cell_type": "code",
   "execution_count": 33,
   "metadata": {
    "collapsed": false
   },
   "outputs": [],
   "source": [
    "for race, value in homicide_rate_per_hundredk.items():\n",
    "    homicide_rate_per_hundredk[race] = float(value) / mapping[race] * 100000"
   ]
  },
  {
   "cell_type": "code",
   "execution_count": 31,
   "metadata": {
    "collapsed": false
   },
   "outputs": [],
   "source": [
    "ages = [row[6] for row in data]"
   ]
  },
  {
   "cell_type": "code",
   "execution_count": 34,
   "metadata": {
    "collapsed": false
   },
   "outputs": [
    {
     "data": {
      "text/plain": [
       "{'Asian/Pacific Islander': 3.530346230970155,\n",
       " 'Black': 48.471284987180944,\n",
       " 'Hispanic': 12.627161104219914,\n",
       " 'Native American/Native Alaskan': 8.717729026240365,\n",
       " 'White': 4.6356417981453335}"
      ]
     },
     "execution_count": 34,
     "metadata": {},
     "output_type": "execute_result"
    }
   ],
   "source": [
    "homicide_rate_per_hundredk"
   ]
  },
  {
   "cell_type": "markdown",
   "metadata": {},
   "source": [
    "## The rate of gun victims due to homicide per hundred thousand are 16 times more for Blacks than Whites. ##\n",
    "\n",
    "They're 4 times greater for Blacks than Hispanics. Of interest is the average age of homicide victims, and the race of the perpetrator in homicide shootings. It would also be wortwhile to explore location beyond just at home or out. One assumes most black gun victims due to homicide were in inner city areas. It would be interesting to explore how intent in black shootings "
   ]
  },
  {
   "cell_type": "code",
   "execution_count": null,
   "metadata": {
    "collapsed": true
   },
   "outputs": [],
   "source": []
  }
 ],
 "metadata": {
  "kernelspec": {
   "display_name": "Python 3",
   "language": "python",
   "name": "python3"
  },
  "language_info": {
   "codemirror_mode": {
    "name": "ipython",
    "version": 3
   },
   "file_extension": ".py",
   "mimetype": "text/x-python",
   "name": "python",
   "nbconvert_exporter": "python",
   "pygments_lexer": "ipython3",
   "version": "3.4.3"
  }
 },
 "nbformat": 4,
 "nbformat_minor": 0
}
