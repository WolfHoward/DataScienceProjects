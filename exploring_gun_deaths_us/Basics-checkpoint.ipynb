{
 "cells": [
  {
   "cell_type": "code",
   "execution_count": 1,
   "metadata": {
    "collapsed": false
   },
   "outputs": [
    {
     "name": "stdout",
     "output_type": "stream",
     "text": [
      "[['', 'year', 'month', 'intent', 'police', 'sex', 'age', 'race', 'hispanic', 'place', 'education'], ['1', '2012', '01', 'Suicide', '0', 'M', '34', 'Asian/Pacific Islander', '100', 'Home', '4'], ['2', '2012', '01', 'Suicide', '0', 'F', '21', 'White', '100', 'Street', '3'], ['3', '2012', '01', 'Suicide', '0', 'M', '60', 'White', '100', 'Other specified', '4'], ['4', '2012', '02', 'Suicide', '0', 'M', '64', 'White', '100', 'Home', '4']]\n"
     ]
    }
   ],
   "source": [
    "import csv\n",
    "import datetime\n",
    "import math\n",
    "import numpy as np\n",
    "\n",
    "f = open(\"guns.csv\", \"r\")\n",
    "data = csv.reader(f)\n",
    "data = list(data)\n",
    "print(data[:5])"
   ]
  },
  {
   "cell_type": "code",
   "execution_count": 2,
   "metadata": {
    "collapsed": true
   },
   "outputs": [],
   "source": [
    "# A function to generate dictionary counts from a given list\n",
    "def counts(data):\n",
    "    col_count = {}\n",
    "    \n",
    "    for item in data:\n",
    "        if item not in col_count:\n",
    "            col_count[item] = 1\n",
    "        else:\n",
    "            col_count[item] += 1\n",
    "            \n",
    "    return(col_count)"
   ]
  },
  {
   "cell_type": "code",
   "execution_count": 10,
   "metadata": {
    "collapsed": false
   },
   "outputs": [],
   "source": [
    "# An apparently overly specialized function. Will split a dictionary based\n",
    "# on given bounds. Would be more useful if it calculated a representative\n",
    "# split and output the hi, lo or middle depending on user input.\n",
    "def value_bound(data, up_bound = None, lo_bound = None, mid_return = False):\n",
    "    vals = {}; mid_vals = {}\n",
    "    no_bound_vals = []\n",
    "    \n",
    "    for key, value in data.items():\n",
    "        if up_bound is None and lo_bound is None:\n",
    "            no_bound_vals.append(value)\n",
    "        elif up_bound is not None and value > up_bound:\n",
    "            vals[key] = value\n",
    "        elif lo_bound is not None and value < lo_bound:\n",
    "            vals[key] = value\n",
    "        else:\n",
    "            mid_vals[key] = value\n",
    "\n",
    "    if len(no_bound_vals) > 0:\n",
    "        print(\"No bounds given. Splitting about the mean... \\n\")\n",
    "        mean = np.mean(no_bound_vals)\n",
    "        \n",
    "        hi_lo = input(\"Input 1 to return vals > mean. Input 2 to return vals < mean...\\n>\")\n",
    "        if hi_lo == 1:\n",
    "            up_half = [x for x in no_bound_vals if x > mean]\n",
    "            return(up_half)\n",
    "        elif hi_lo == 2:\n",
    "            lo_half = [x for x in no_bound_vals if x < mean]\n",
    "            return(lo_half)\n",
    "        else:\n",
    "            return(\"Invalid input.\")\n",
    "        \n",
    "    if mid_return == True:\n",
    "        return(mid_vals)\n",
    "            \n",
    "    return(vals)\n"
   ]
  },
  {
   "cell_type": "code",
   "execution_count": 11,
   "metadata": {
    "collapsed": true
   },
   "outputs": [],
   "source": [
    "# A formatting function, used to output the mean, variance, and standard\n",
    "# deviation of a given dictionary of int/float valuees\n",
    "def summary(data, output = True, title = None, data_print = False):\n",
    "    explicit_count = {}\n",
    "    values = []\n",
    "    \n",
    "    for key, value in data.items():\n",
    "        keyf = key\n",
    "        \n",
    "        #If it's a datetime, format to show month and year\n",
    "        if isinstance(key, datetime.datetime):\n",
    "            keyf = key.strftime(\"%b %Y\")\n",
    "        \n",
    "        explicit_count[keyf] = value\n",
    "        values.append(value)\n",
    "    \n",
    "    packet = {\"avg\": np.mean(values), \"var\": np.var(values), \"std\": np.std(values)}\n",
    "    \n",
    "    if title is not None:\n",
    "        print(title)    \n",
    "    \n",
    "    if output == True:\n",
    "        print(\"\\n\\tAvg: {avg:.2f} \\n\\tVar: {var:.2f} \\n\\tStd. Dev: {std:.2f} \\n\".format(**packet))\n",
    "    \n",
    "    if data_print == True:\n",
    "        print(\"Dataset: \\n\", explicit_count, \"\\n\\n\")"
   ]
  },
  {
   "cell_type": "code",
   "execution_count": 3,
   "metadata": {
    "collapsed": false
   },
   "outputs": [
    {
     "name": "stdout",
     "output_type": "stream",
     "text": [
      "['', 'year', 'month', 'intent', 'police', 'sex', 'age', 'race', 'hispanic', 'place', 'education']\n",
      "[['1', '2012', '01', 'Suicide', '0', 'M', '34', 'Asian/Pacific Islander', '100', 'Home', '4'], ['2', '2012', '01', 'Suicide', '0', 'F', '21', 'White', '100', 'Street', '3'], ['3', '2012', '01', 'Suicide', '0', 'M', '60', 'White', '100', 'Other specified', '4'], ['4', '2012', '02', 'Suicide', '0', 'M', '64', 'White', '100', 'Home', '4'], ['5', '2012', '02', 'Suicide', '0', 'M', '31', 'White', '100', 'Other specified', '2']]\n"
     ]
    }
   ],
   "source": [
    "# Removing the header row from the dataset and storing it for reference\n",
    "headers = data.pop(0)\n",
    "print(headers)\n",
    "print(data[:5])"
   ]
  },
  {
   "cell_type": "code",
   "execution_count": 4,
   "metadata": {
    "collapsed": false
   },
   "outputs": [
    {
     "name": "stdout",
     "output_type": "stream",
     "text": [
      "{'2014': 33599, '2013': 33636, '2012': 33563}\n"
     ]
    }
   ],
   "source": [
    "years = [row[1] for row in data]\n",
    "year_counts = counts(years)\n",
    "print(year_counts)"
   ]
  },
  {
   "cell_type": "code",
   "execution_count": 5,
   "metadata": {
    "collapsed": false
   },
   "outputs": [
    {
     "name": "stdout",
     "output_type": "stream",
     "text": [
      "[datetime.datetime(2012, 1, 1, 0, 0), datetime.datetime(2012, 1, 1, 0, 0), datetime.datetime(2012, 1, 1, 0, 0), datetime.datetime(2012, 2, 1, 0, 0), datetime.datetime(2012, 2, 1, 0, 0)]\n"
     ]
    }
   ],
   "source": [
    "#Using a list comp to pull columns of interest\n",
    "dates = [datetime.datetime(year=int(row[1]), month=int(row[2]), day = 1) for row in data]\n",
    "print(dates[:5])"
   ]
  },
  {
   "cell_type": "code",
   "execution_count": 6,
   "metadata": {
    "collapsed": true
   },
   "outputs": [
    {
     "name": "stdout",
     "output_type": "stream",
     "text": [
      "{datetime.datetime(2012, 8, 1, 0, 0): 2954, datetime.datetime(2014, 2, 1, 0, 0): 2361, datetime.datetime(2013, 7, 1, 0, 0): 3079, datetime.datetime(2012, 9, 1, 0, 0): 2852, datetime.datetime(2012, 12, 1, 0, 0): 2791, datetime.datetime(2013, 10, 1, 0, 0): 2808, datetime.datetime(2013, 8, 1, 0, 0): 2859, datetime.datetime(2014, 3, 1, 0, 0): 2684, datetime.datetime(2013, 9, 1, 0, 0): 2742, datetime.datetime(2013, 1, 1, 0, 0): 2864, datetime.datetime(2013, 2, 1, 0, 0): 2375, datetime.datetime(2013, 6, 1, 0, 0): 2920, datetime.datetime(2013, 4, 1, 0, 0): 2798, datetime.datetime(2012, 5, 1, 0, 0): 2999, datetime.datetime(2013, 11, 1, 0, 0): 2758, datetime.datetime(2014, 12, 1, 0, 0): 2857, datetime.datetime(2014, 1, 1, 0, 0): 2651, datetime.datetime(2014, 4, 1, 0, 0): 2862, datetime.datetime(2012, 2, 1, 0, 0): 2357, datetime.datetime(2013, 12, 1, 0, 0): 2765, datetime.datetime(2013, 5, 1, 0, 0): 2806, datetime.datetime(2012, 10, 1, 0, 0): 2733, datetime.datetime(2014, 9, 1, 0, 0): 2914, datetime.datetime(2014, 7, 1, 0, 0): 2884, datetime.datetime(2012, 11, 1, 0, 0): 2729, datetime.datetime(2014, 11, 1, 0, 0): 2756, datetime.datetime(2014, 6, 1, 0, 0): 2931, datetime.datetime(2012, 7, 1, 0, 0): 3026, datetime.datetime(2014, 10, 1, 0, 0): 2865, datetime.datetime(2012, 6, 1, 0, 0): 2826, datetime.datetime(2012, 1, 1, 0, 0): 2758, datetime.datetime(2012, 4, 1, 0, 0): 2795, datetime.datetime(2012, 3, 1, 0, 0): 2743, datetime.datetime(2014, 5, 1, 0, 0): 2864, datetime.datetime(2013, 3, 1, 0, 0): 2862, datetime.datetime(2014, 8, 1, 0, 0): 2970}\n"
     ]
    }
   ],
   "source": [
    "# Passing the generated list to our counting function\n",
    "date_counts = counts(dates)\n",
    "#print(date_counts)"
   ]
  },
  {
   "cell_type": "code",
   "execution_count": 7,
   "metadata": {
    "collapsed": true
   },
   "outputs": [
    {
     "name": "stdout",
     "output_type": "stream",
     "text": [
      "2012-08-01 00:00:00 :  2954\n",
      "2013-07-01 00:00:00 :  3079\n",
      "2013-06-01 00:00:00 :  2920\n",
      "2012-05-01 00:00:00 :  2999\n",
      "2014-09-01 00:00:00 :  2914\n",
      "2014-06-01 00:00:00 :  2931\n",
      "2012-07-01 00:00:00 :  3026\n",
      "2014-08-01 00:00:00 :  2970\n"
     ]
    }
   ],
   "source": [
    "# Printing all values greater than 2900 in our date counts. \n",
    "dates_over_2900 = [print(k,\": \", v) for k, v in date_counts.items() if v > 2900]"
   ]
  },
  {
   "cell_type": "code",
   "execution_count": 8,
   "metadata": {
    "collapsed": true
   },
   "outputs": [
    {
     "name": "stdout",
     "output_type": "stream",
     "text": [
      "2014-02-01 00:00:00 :  2361\n",
      "2014-03-01 00:00:00 :  2684\n",
      "2013-09-01 00:00:00 :  2742\n",
      "2013-02-01 00:00:00 :  2375\n",
      "2014-01-01 00:00:00 :  2651\n",
      "2012-02-01 00:00:00 :  2357\n",
      "2012-10-01 00:00:00 :  2733\n",
      "2012-11-01 00:00:00 :  2729\n",
      "2012-03-01 00:00:00 :  2743\n"
     ]
    }
   ],
   "source": [
    "# Printing all values greater than 2900 in our date counts. \n",
    "dates_under_2800 = [print(k,\": \", v) for k, v in date_counts.items() if v < 2750]"
   ]
  },
  {
   "cell_type": "code",
   "execution_count": 12,
   "metadata": {
    "collapsed": false
   },
   "outputs": [],
   "source": [
    "hi_vals = value_bound(date_counts, up_bound=2900)\n",
    "lo_vals = value_bound(date_counts, lo_bound=2750)\n",
    "mid_vals = value_bound(date_counts, up_bound=2900, lo_bound=2750, mid_return=True)"
   ]
  },
  {
   "cell_type": "code",
   "execution_count": 13,
   "metadata": {
    "collapsed": false
   },
   "outputs": [
    {
     "name": "stdout",
     "output_type": "stream",
     "text": [
      "Hi Count Summary\n",
      "\n",
      "\tAvg: 2974.12 \n",
      "\tVar: 2891.86 \n",
      "\tStd. Dev: 53.78 \n",
      "\n",
      "Dataset: \n",
      " {'Aug 2014': 2970, 'Jul 2012': 3026, 'Jun 2013': 2920, 'Jun 2014': 2931, 'Jul 2013': 3079, 'Aug 2012': 2954, 'Sep 2014': 2914, 'May 2012': 2999} \n",
      "\n",
      "\n",
      "Lo Count Summary\n",
      "\n",
      "\tAvg: 2597.22 \n",
      "\tVar: 27925.06 \n",
      "\tStd. Dev: 167.11 \n",
      "\n",
      "Dataset: \n",
      " {'Mar 2012': 2743, 'Oct 2012': 2733, 'Feb 2014': 2361, 'Mar 2014': 2684, 'Nov 2012': 2729, 'Jan 2014': 2651, 'Feb 2012': 2357, 'Feb 2013': 2375, 'Sep 2013': 2742} \n",
      "\n",
      "\n",
      "Mid Count Summary\n",
      "\n",
      "\tAvg: 2822.63 \n",
      "\tVar: 1812.55 \n",
      "\tStd. Dev: 42.57 \n",
      "\n",
      "Dataset: \n",
      " {'Nov 2014': 2756, 'May 2013': 2806, 'Sep 2012': 2852, 'Oct 2014': 2865, 'Dec 2012': 2791, 'Dec 2014': 2857, 'Mar 2013': 2862, 'Dec 2013': 2765, 'Jun 2012': 2826, 'Oct 2013': 2808, 'Jan 2012': 2758, 'Jan 2013': 2864, 'Jul 2014': 2884, 'Apr 2013': 2798, 'Nov 2013': 2758, 'May 2014': 2864, 'Apr 2012': 2795, 'Aug 2013': 2859, 'Apr 2014': 2862} \n",
      "\n",
      "\n"
     ]
    }
   ],
   "source": [
    "summary(hi_vals, title = \"Hi Count Summary\", data_print = True)\n",
    "summary(lo_vals, title = \"Lo Count Summary\", data_print = True)\n",
    "summary(mid_vals, title = \"Mid Count Summary\", data_print = True)"
   ]
  },
  {
   "cell_type": "code",
   "execution_count": 14,
   "metadata": {
    "collapsed": false
   },
   "outputs": [
    {
     "name": "stdout",
     "output_type": "stream",
     "text": [
      "{'F': 14449, 'M': 86349}\n"
     ]
    }
   ],
   "source": [
    "sex = [row[5] for row in data]\n",
    "sex_counts = counts(sex)\n",
    "print(sex_counts)"
   ]
  },
  {
   "cell_type": "code",
   "execution_count": 15,
   "metadata": {
    "collapsed": false
   },
   "outputs": [
    {
     "name": "stdout",
     "output_type": "stream",
     "text": [
      "{'Asian/Pacific Islander': 1326, 'White': 66237, 'Black': 23296, 'Hispanic': 9022, 'Native American/Native Alaskan': 917}\n"
     ]
    }
   ],
   "source": [
    "races = [row[7] for row in data]\n",
    "race_counts = counts(races)\n",
    "print(race_counts)"
   ]
  },
  {
   "cell_type": "code",
   "execution_count": 17,
   "metadata": {
    "collapsed": false
   },
   "outputs": [
    {
     "name": "stdout",
     "output_type": "stream",
     "text": [
      "\n",
      "\tAvg: 20159.60 \n",
      "\tVar: 596398414.64 \n",
      "\tStd. Dev: 24421.27 \n",
      "\n"
     ]
    }
   ],
   "source": [
    "race_sum = summary(race_counts)"
   ]
  },
  {
   "cell_type": "code",
   "execution_count": null,
   "metadata": {
    "collapsed": true
   },
   "outputs": [],
   "source": []
  }
 ],
 "metadata": {
  "kernelspec": {
   "display_name": "Python 3",
   "language": "python",
   "name": "python3"
  },
  "language_info": {
   "codemirror_mode": {
    "name": "ipython",
    "version": 3
   },
   "file_extension": ".py",
   "mimetype": "text/x-python",
   "name": "python",
   "nbconvert_exporter": "python",
   "pygments_lexer": "ipython3",
   "version": "3.4.3"
  }
 },
 "nbformat": 4,
 "nbformat_minor": 0
}
